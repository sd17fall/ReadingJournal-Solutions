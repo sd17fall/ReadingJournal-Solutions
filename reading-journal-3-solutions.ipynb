{
 "cells": [
  {
   "cell_type": "markdown",
   "metadata": {},
   "source": [
    "# Reading Journal 3 Solutions"
   ]
  },
  {
   "cell_type": "markdown",
   "metadata": {},
   "source": [
    "### Chapter 8.3  \n",
    "\n",
    "Write a function that takes a string as an argument and displays the letters backward, one per line."
   ]
  },
  {
   "cell_type": "code",
   "execution_count": 6,
   "metadata": {},
   "outputs": [
    {
     "name": "stdout",
     "output_type": "stream",
     "text": [
      "k\n",
      "c\n",
      "a\n",
      "b\n"
     ]
    }
   ],
   "source": [
    "def display_backwards(s):\n",
    "    i = 0\n",
    "    while i < len(s):\n",
    "        print(s[len(s) - i - 1])\n",
    "        i = i + 1\n",
    "\n",
    "display_backwards('back')"
   ]
  },
  {
   "cell_type": "code",
   "execution_count": 7,
   "metadata": {},
   "outputs": [
    {
     "name": "stdout",
     "output_type": "stream",
     "text": [
      "k\n",
      "c\n",
      "a\n",
      "b\n"
     ]
    }
   ],
   "source": [
    "def display_backwards(s):\n",
    "    i = len(s)\n",
    "    while i > 0:\n",
    "        i = i - 1\n",
    "        print(s[i])\n",
    "\n",
    "display_backwards('back')"
   ]
  },
  {
   "cell_type": "code",
   "execution_count": 9,
   "metadata": {},
   "outputs": [
    {
     "name": "stdout",
     "output_type": "stream",
     "text": [
      "k\n",
      "c\n",
      "a\n",
      "b\n"
     ]
    }
   ],
   "source": [
    "def display_backwards(s):\n",
    "    for i in range(len(s)):\n",
    "        print(s[len(s) - 1 - i])\n",
    "\n",
    "display_backwards('back')"
   ]
  },
  {
   "cell_type": "code",
   "execution_count": 11,
   "metadata": {},
   "outputs": [
    {
     "name": "stdout",
     "output_type": "stream",
     "text": [
      "k\n",
      "c\n",
      "a\n",
      "b\n"
     ]
    }
   ],
   "source": [
    "def display_backwards(s):\n",
    "    for i in range(len(s), 0, -1):\n",
    "        print(s[i - 1])\n",
    "\n",
    "display_backwards('back')"
   ]
  },
  {
   "cell_type": "markdown",
   "metadata": {},
   "source": [
    "From here on use some more advanced techniques that we haven't covered."
   ]
  },
  {
   "cell_type": "code",
   "execution_count": 13,
   "metadata": {
    "scrolled": true
   },
   "outputs": [
    {
     "name": "stdout",
     "output_type": "stream",
     "text": [
      "k\n",
      "c\n",
      "a\n",
      "b\n"
     ]
    }
   ],
   "source": [
    "def display_backwards(s):\n",
    "    r = s[::-1]\n",
    "    for i in range(len(r)):\n",
    "        print(r[i])\n",
    "\n",
    "display_backwards('back')"
   ]
  },
  {
   "cell_type": "code",
   "execution_count": 14,
   "metadata": {},
   "outputs": [
    {
     "name": "stdout",
     "output_type": "stream",
     "text": [
      "k\n",
      "c\n",
      "a\n",
      "b\n"
     ]
    }
   ],
   "source": [
    "def display_backwards(s):\n",
    "    r = s[::-1]\n",
    "    for i, c in enumerate(r):\n",
    "        print(c)\n",
    "\n",
    "display_backwards('back')"
   ]
  },
  {
   "cell_type": "code",
   "execution_count": 15,
   "metadata": {},
   "outputs": [
    {
     "name": "stdout",
     "output_type": "stream",
     "text": [
      "k\n",
      "c\n",
      "a\n",
      "b\n"
     ]
    }
   ],
   "source": [
    "def display_backwards(s):\n",
    "    for _, c in enumerate(s[::-1]):\n",
    "        print(c)\n",
    "\n",
    "display_backwards('back')"
   ]
  },
  {
   "cell_type": "code",
   "execution_count": 16,
   "metadata": {},
   "outputs": [
    {
     "name": "stdout",
     "output_type": "stream",
     "text": [
      "k\n",
      "c\n",
      "a\n",
      "b\n"
     ]
    }
   ],
   "source": [
    "def display_backwards(s):\n",
    "    print(\"\\n\".join(s[::-1]))\n",
    "\n",
    "display_backwards('back')"
   ]
  },
  {
   "cell_type": "markdown",
   "metadata": {},
   "source": [
    "**Challenge (optional):** Write a function that translates words into [Pig Latin](https://en.wikipedia.org/wiki/Pig_Latin)."
   ]
  },
  {
   "cell_type": "code",
   "execution_count": 19,
   "metadata": {
    "scrolled": true
   },
   "outputs": [
    {
     "name": "stdout",
     "output_type": "stream",
     "text": [
      "Finding tests in NoName\n",
      "Trying:\n",
      "    pig_latin(\"software\")\n",
      "Expecting:\n",
      "    'oftwaresay'\n",
      "ok\n",
      "Trying:\n",
      "    pig_latin(\"apple\")\n",
      "Expecting:\n",
      "    'appleay'\n",
      "ok\n"
     ]
    }
   ],
   "source": [
    "def pig_latin(word):\n",
    "    \"\"\"\n",
    "    Return given 'word' translated into Pig Latin\n",
    "    \n",
    "    >>> pig_latin(\"software\")\n",
    "    'oftwaresay'\n",
    "    \n",
    "    >>> pig_latin(\"apple\")\n",
    "    'appleay'\n",
    "    \"\"\"\n",
    "    vowels = ['a', 'e', 'i', 'o', 'u']\n",
    "    if word[0] in vowels:\n",
    "        return word + 'ay'\n",
    "    else:\n",
    "        return word[1:] + word[0] + 'ay'\n",
    "\n",
    "import doctest\n",
    "doctest.run_docstring_examples(pig_latin, globals(), verbose=True)"
   ]
  },
  {
   "cell_type": "code",
   "execution_count": 21,
   "metadata": {
    "scrolled": true
   },
   "outputs": [
    {
     "name": "stdout",
     "output_type": "stream",
     "text": [
      "Finding tests in NoName\n",
      "Trying:\n",
      "    pig_latin(\"software\")\n",
      "Expecting:\n",
      "    'oftwaresay'\n",
      "ok\n",
      "Trying:\n",
      "    pig_latin(\"apple\")\n",
      "Expecting:\n",
      "    'appleay'\n",
      "ok\n"
     ]
    }
   ],
   "source": [
    "def pig_latin(word):\n",
    "    \"\"\"\n",
    "    Return given 'word' translated into Pig Latin\n",
    "    \n",
    "    >>> pig_latin(\"software\")\n",
    "    'oftwaresay'\n",
    "    \n",
    "    >>> pig_latin(\"apple\")\n",
    "    'appleay'\n",
    "    \"\"\"\n",
    "    vowels = ['a', 'e', 'i', 'o', 'u']\n",
    "    if word[0] not in vowels:\n",
    "        word = word[1:] + word[0]\n",
    "    return word + 'ay'\n",
    "\n",
    "import doctest\n",
    "doctest.run_docstring_examples(pig_latin, globals(), verbose=True)"
   ]
  },
  {
   "cell_type": "markdown",
   "metadata": {},
   "source": [
    "**Challenge to the challenge**: Write a function that translates back into English."
   ]
  },
  {
   "cell_type": "code",
   "execution_count": 30,
   "metadata": {},
   "outputs": [
    {
     "name": "stdout",
     "output_type": "stream",
     "text": [
      "Finding tests in NoName\n",
      "Trying:\n",
      "    unpig_latin(\"oftwaresay\")\n",
      "Expecting:\n",
      "    'software'\n",
      "ok\n",
      "Trying:\n",
      "    unpig_latin(\"appleay\")\n",
      "Expecting:\n",
      "    'apple'\n",
      "ok\n"
     ]
    }
   ],
   "source": [
    "def unpig_latin(word):\n",
    "    \"\"\"\n",
    "    Return given 'word' translated into Pig Latin\n",
    "    \n",
    "    >>> unpig_latin(\"oftwaresay\")\n",
    "    'software'\n",
    "    \n",
    "    >>> unpig_latin(\"appleay\")\n",
    "    'apple'\n",
    "    \"\"\"\n",
    "    assert word[-2:] == 'ay'\n",
    "    word = word[:-2]\n",
    "    vowels = ['a', 'e', 'i', 'o', 'u']\n",
    "    if word[-1] not in vowels:\n",
    "        word = word[-1] + word[:-1]\n",
    "    return word\n",
    "\n",
    "import doctest\n",
    "doctest.run_docstring_examples(unpig_latin, globals(), verbose=True)"
   ]
  },
  {
   "cell_type": "markdown",
   "metadata": {},
   "source": [
    "### Chapter 8.7\n",
    "Encapsulate the character counting code in a fruitful function named `count` that accepts the string and the letter as arguments and returns the count."
   ]
  },
  {
   "cell_type": "markdown",
   "metadata": {},
   "source": [
    "Commonly `s` is used for string and `c` for character."
   ]
  },
  {
   "cell_type": "code",
   "execution_count": 34,
   "metadata": {},
   "outputs": [
    {
     "data": {
      "text/plain": [
       "3"
      ]
     },
     "execution_count": 34,
     "metadata": {},
     "output_type": "execute_result"
    }
   ],
   "source": [
    "def count(s, letter):\n",
    "    n = 0\n",
    "    for c in s:\n",
    "        if c == letter:\n",
    "            n = n + 1\n",
    "    return n\n",
    "\n",
    "count('banana', 'a')"
   ]
  },
  {
   "cell_type": "markdown",
   "metadata": {},
   "source": [
    "Teaser: advanced techniques (not covered in this course)."
   ]
  },
  {
   "cell_type": "code",
   "execution_count": 36,
   "metadata": {},
   "outputs": [
    {
     "data": {
      "text/plain": [
       "3"
      ]
     },
     "execution_count": 36,
     "metadata": {},
     "output_type": "execute_result"
    }
   ],
   "source": [
    "def count(s, letter):\n",
    "    return sum(1 for c in s if c == letter)\n",
    "\n",
    "count('banana', 'a')"
   ]
  },
  {
   "cell_type": "code",
   "execution_count": 37,
   "metadata": {},
   "outputs": [
    {
     "data": {
      "text/plain": [
       "3"
      ]
     },
     "execution_count": 37,
     "metadata": {},
     "output_type": "execute_result"
    }
   ],
   "source": [
    "def count(s, letter):\n",
    "    return sum(c == letter for c in s)\n",
    "\n",
    "count('banana', 'a')"
   ]
  },
  {
   "cell_type": "markdown",
   "metadata": {},
   "source": [
    "### Exercise 8.1\n",
    "Skim the documentation of the Python [string methods](http://docs.python.org/3/library/stdtypes.html#string-methods). Play with them to make sure you understand how they work-- strip, replace, and upper/lower are particularly useful. Show us some of your experiments."
   ]
  },
  {
   "cell_type": "code",
   "execution_count": 2,
   "metadata": {},
   "outputs": [
    {
     "name": "stdout",
     "output_type": "stream",
     "text": [
      "False\n",
      "Hello world!\n",
      "hello world!\n",
      "True\n",
      "Hello World!\n",
      "['hello', 'world!']\n",
      "    hello world!    \n",
      "****hello world!****\n",
      "        hello world!\n",
      "********hello world!\n",
      "hello world world\n",
      "7\n",
      "hello globe globe\n",
      "hello globe world\n",
      "01\t012\t0123\t01234\n",
      "01      012     0123    01234\n",
      "01          012         0123        01234\n",
      "True\n",
      "False\n"
     ]
    }
   ],
   "source": [
    "orig = \"hello world!\";\n",
    "print(orig.isalpha())\n",
    "cap = orig.capitalize(); print(cap);\n",
    "low = cap.lower();\n",
    "print(low); print(low.islower());\n",
    "print(orig.title())\n",
    "print(orig.split(' '));\n",
    "print(orig.center(20));\n",
    "print(orig.center(20,'*'));\n",
    "print(orig.rjust(20));\n",
    "print(orig.rjust(20,'*'));\n",
    "\n",
    "double = \"hello world world\";\n",
    "print(double)\n",
    "idx = double.find('or'); print(idx);\n",
    "print(double.replace('world', 'globe'))\n",
    "print(double.replace('world', 'globe', 1))\n",
    "\n",
    "str2 = '01\\t012\\t0123\\t01234';\n",
    "print(str2);\n",
    "print(str2.expandtabs())\n",
    "print(str2.expandtabs(12))\n",
    "\n",
    "print('running'.endswith('ing'))\n",
    "print('testng'.endswith('ing'))"
   ]
  },
  {
   "cell_type": "code",
   "execution_count": 20,
   "metadata": {},
   "outputs": [
    {
     "name": "stdout",
     "output_type": "stream",
     "text": [
      "hello\n",
      "hello\n",
      "4\n",
      "rzceczr\n"
     ]
    }
   ],
   "source": [
    "print(str.lower('Hello'))\n",
    "print('Hello'.lower())\n",
    "print('racecar'.find('ca'))\n",
    "print('racecar'.replace('a','z'))"
   ]
  },
  {
   "cell_type": "code",
   "execution_count": 38,
   "metadata": {},
   "outputs": [
    {
     "name": "stdout",
     "output_type": "stream",
     "text": [
      "M0n!y p*thon\n",
      "m0n!y p*thon\n",
      "False\n",
      "False\n",
      "True\n",
      "False\n",
      "True\n",
      "True\n",
      "False\n",
      "True\n",
      "False\n",
      "True\n"
     ]
    }
   ],
   "source": [
    "str = \"m0n!y P*thon\"\n",
    "print(str.capitalize())\n",
    "print(str.casefold())\n",
    "print(str.isalnum())\n",
    "print(str.isalpha())\n",
    "print('LKAJSLJ'.isalpha())\n",
    "print(str.isdecimal())\n",
    "print('23412'.isdecimal())\n",
    "print('334534'.isdigit())\n",
    "print('SLKKldlfkjf'.islower())\n",
    "print('kafsjdl'.islower())\n",
    "print('sjkdflk'.isupper())\n",
    "print('FGKJDSL'.isupper())"
   ]
  },
  {
   "cell_type": "code",
   "execution_count": 14,
   "metadata": {},
   "outputs": [
    {
     "name": "stdout",
     "output_type": "stream",
     "text": [
      "L Adybug\n",
      "La Dybug\n",
      "Lad Ybug\n",
      "Lady Bug\n",
      "Ladyb Ug\n",
      "Ladybu G\n"
     ]
    }
   ],
   "source": [
    "def proper_noun(phrase):\n",
    "    phrase = phrase.split(\" \")\n",
    "    phrase_upper = ''\n",
    "    for word in phrase:\n",
    "        word = word[0].upper() + word[1:]\n",
    "        phrase_upper = phrase_upper + ' ' + word\n",
    "        \n",
    "    return phrase_upper[1:]\n",
    "\n",
    "def compounds(word):\n",
    "    for i in range(1,len(word)):\n",
    "        print(proper_noun(word[:i] + ' ' + word[i:]))\n",
    "        \n",
    "compounds('ladybug')"
   ]
  },
  {
   "cell_type": "code",
   "execution_count": 39,
   "metadata": {},
   "outputs": [
    {
     "name": "stdout",
     "output_type": "stream",
     "text": [
      "What is your name? Diana\n",
      "Diana\n",
      "Wow! What a nice name.\n",
      "But what if it started with a B?\n",
      "Biana\n",
      "That's pretty neat too.\n"
     ]
    }
   ],
   "source": [
    "name = input(\"What is your name? \")\n",
    "lower_name = name.lower()\n",
    "proper_name = name.capitalize()\n",
    "print(proper_name)\n",
    "print(\"Wow! What a nice name.\")\n",
    "if name[0]!=\"B\":\n",
    "    print(\"But what if it started with a B?\")\n",
    "    new_name = \"B\" + name[1:]\n",
    "    print(new_name)\n",
    "    print(\"That's pretty neat too.\")"
   ]
  },
  {
   "cell_type": "code",
   "execution_count": 79,
   "metadata": {},
   "outputs": [
    {
     "name": "stdout",
     "output_type": "stream",
     "text": [
      "firefly --> FIREFLY\n",
      "fIrEfLy --> FIREFLY\n",
      "FIREFLY --> firefly\n",
      "fIrEfLy --> firefly\n",
      "firefly --> firefighter\n",
      "firefly is still firefly\n",
      "firefly --> ire\n",
      "         firefly    --> firefly\n",
      "fIrEfLy --> Firefly\n"
     ]
    }
   ],
   "source": [
    "lower = 'firefly'\n",
    "upper = 'FIREFLY'\n",
    "mix = 'fIrEfLy'\n",
    "spaces = '         firefly   '\n",
    "\n",
    "#changes all characters to upper case\n",
    "print(lower, '-->', lower.upper())\n",
    "print(mix, '-->', mix.upper())\n",
    "\n",
    "#changes all characters to lower case\n",
    "print(upper, '-->', upper.lower())\n",
    "print(mix, '-->', mix.lower())\n",
    "\n",
    "#replaces old string segment (i.e fly) with new string segment (i.e. fighter) in a new copy\n",
    "print(lower, '-->', lower.replace('fly', 'fighter'))\n",
    "print(lower, 'is still firefly')\n",
    "\n",
    "#removes leading and trailing characters (or white spaces if no argument)\n",
    "print(lower, '-->', lower.strip('fly'))\n",
    "print(spaces, '-->', spaces.strip())\n",
    "\n",
    "#capitalizes first letter and lowercases the rest\n",
    "print(mix, '-->', mix.capitalize())"
   ]
  },
  {
   "cell_type": "markdown",
   "metadata": {},
   "source": [
    "### Exercise 8.4  \n",
    "\n",
    "The following functions are all intended to check whether a string contains any lowercase letters, but at least some of them are wrong. For each function, describe what the function actually does (assuming that the parameter is a string)."
   ]
  },
  {
   "cell_type": "code",
   "execution_count": 40,
   "metadata": {},
   "outputs": [
    {
     "data": {
      "text/plain": [
       "False"
      ]
     },
     "execution_count": 40,
     "metadata": {},
     "output_type": "execute_result"
    }
   ],
   "source": [
    "def any_lowercase1(s):\n",
    "    for c in s:\n",
    "        if c.islower():\n",
    "            return True\n",
    "        else:\n",
    "            return False\n",
    "\n",
    "any_lowercase1('Word')"
   ]
  },
  {
   "cell_type": "markdown",
   "metadata": {},
   "source": [
    "Returns `True` iff the *first* letter of the string is lowercase. The `for` loop does not get past the first character since both the `if` and `else` conditions contain a `return` statement."
   ]
  },
  {
   "cell_type": "code",
   "execution_count": 42,
   "metadata": {},
   "outputs": [
    {
     "data": {
      "text/plain": [
       "'True'"
      ]
     },
     "execution_count": 42,
     "metadata": {},
     "output_type": "execute_result"
    }
   ],
   "source": [
    "def any_lowercase2(s):\n",
    "    for c in s:\n",
    "        if 'c'.islower():\n",
    "            return 'True'\n",
    "        else:\n",
    "            return 'False'\n",
    "\n",
    "any_lowercase2('WORD')"
   ]
  },
  {
   "cell_type": "markdown",
   "metadata": {},
   "source": [
    "Returns the string `'True'`. This function does not actually check the input string; it checks if the character 'c' is lowercase, which it is."
   ]
  },
  {
   "cell_type": "code",
   "execution_count": 43,
   "metadata": {},
   "outputs": [
    {
     "data": {
      "text/plain": [
       "False"
      ]
     },
     "execution_count": 43,
     "metadata": {},
     "output_type": "execute_result"
    }
   ],
   "source": [
    "def any_lowercase3(s):\n",
    "    for c in s:\n",
    "        flag = c.islower()\n",
    "    return flag\n",
    "\n",
    "any_lowercase3('lowercasE')"
   ]
  },
  {
   "cell_type": "markdown",
   "metadata": {},
   "source": [
    "Returns True or False if the *last* character of the string is lowercase or not, respectively."
   ]
  },
  {
   "cell_type": "markdown",
   "metadata": {},
   "source": [
    "## [Chapter 10.1 - 10.6](http://www.greenteapress.com/thinkpython2/html/thinkpython2011.html)\n",
    "\n",
    "You may want to review [state diagrams in Chapter 2](http://www.greenteapress.com/thinkpython2/html/thinkpython2003.html#toc13).\n",
    "\n"
   ]
  },
  {
   "cell_type": "markdown",
   "metadata": {},
   "source": [
    "**Quick check:** What type of items can be placed in a list?"
   ]
  },
  {
   "cell_type": "markdown",
   "metadata": {},
   "source": [
    "Any type at all."
   ]
  },
  {
   "cell_type": "markdown",
   "metadata": {},
   "source": [
    "**Quick check:** Give at least one similarity and one difference between lists and strings."
   ]
  },
  {
   "cell_type": "markdown",
   "metadata": {},
   "source": [
    "Similarities:\n",
    "* Both lists and strings are sequences of values. \n",
    "* Indices `s[0]`, `s[-1]`, slices `s[2:5]`, and `len(s)` work whether `s` is a list or a string (provided it is long enough).\n",
    "\n",
    "Differences:\n",
    "* In a string, the values are characters; in a list, they can be any type.\n",
    "* Lists are mutable, strings are not: `s[0] = 'x'` works only if the value of `s` is a list."
   ]
  },
  {
   "cell_type": "markdown",
   "metadata": {},
   "source": [
    "### Exercise\n",
    "\n",
    "Write a Python function named `average` that takes a list of numbers and returns their arithmetic mean."
   ]
  },
  {
   "cell_type": "code",
   "execution_count": 49,
   "metadata": {},
   "outputs": [
    {
     "data": {
      "text/plain": [
       "4.0"
      ]
     },
     "execution_count": 49,
     "metadata": {},
     "output_type": "execute_result"
    }
   ],
   "source": [
    "def average(ns):\n",
    "    s = 0\n",
    "    for n in ns:\n",
    "        s = s + n\n",
    "    return s / len(ns)\n",
    "\n",
    "average([1, 2, 3, 10])"
   ]
  },
  {
   "cell_type": "code",
   "execution_count": 48,
   "metadata": {
    "scrolled": true
   },
   "outputs": [
    {
     "data": {
      "text/plain": [
       "4.0"
      ]
     },
     "execution_count": 48,
     "metadata": {},
     "output_type": "execute_result"
    }
   ],
   "source": [
    "def average(ns):\n",
    "    s = sum(ns)\n",
    "    return s / len(ns)\n",
    "\n",
    "average([1, 2, 3, 10])"
   ]
  },
  {
   "cell_type": "code",
   "execution_count": 50,
   "metadata": {
    "scrolled": true
   },
   "outputs": [
    {
     "data": {
      "text/plain": [
       "4.0"
      ]
     },
     "execution_count": 50,
     "metadata": {},
     "output_type": "execute_result"
    }
   ],
   "source": [
    "def average(ns):\n",
    "    return sum(ns) / len(ns)\n",
    "\n",
    "average([1, 2, 3, 10])"
   ]
  },
  {
   "cell_type": "markdown",
   "metadata": {},
   "source": [
    "### Exercise\n",
    "You own a restaurant, and you need to keep up with the latest food fads or risk losing your fickle customers. You decide to write a Python function that adds the hot new ingredient _du jour_ to each of your regular menu items and returns the trendy new menu."
   ]
  },
  {
   "cell_type": "code",
   "execution_count": 52,
   "metadata": {},
   "outputs": [
    {
     "name": "stdout",
     "output_type": "stream",
     "text": [
      "Finding tests in NoName\n",
      "Trying:\n",
      "    add_ingredient([\"burger\", \"salad\", \"ice cream\"], \"kale\")\n",
      "Expecting:\n",
      "    ['burger with kale', 'salad with kale', 'ice cream with kale']\n",
      "ok\n"
     ]
    }
   ],
   "source": [
    "def add_ingredient(menu, ingredient):\n",
    "    \"\"\"Add ingredient to each item on the menu.\n",
    "    \n",
    "    Given a list of string 'menu' items and a trendy 'ingredient' string of the day,\n",
    "    return a new menu list of strings with the ingredient added to each.\n",
    "    \n",
    "    >>> add_ingredient([\"burger\", \"salad\", \"ice cream\"], \"kale\")\n",
    "    ['burger with kale', 'salad with kale', 'ice cream with kale']\n",
    "    \"\"\"\n",
    "    out = []\n",
    "    for i in range(len(menu)):\n",
    "        out.append(menu[i] + \" with \" + ingredient)\n",
    "    return menu\n",
    "\n",
    "import doctest\n",
    "doctest.run_docstring_examples(add_ingredient, globals(), verbose=True)"
   ]
  },
  {
   "cell_type": "code",
   "execution_count": 56,
   "metadata": {},
   "outputs": [
    {
     "name": "stdout",
     "output_type": "stream",
     "text": [
      "Finding tests in NoName\n",
      "Trying:\n",
      "    add_ingredient([\"burger\", \"salad\", \"ice cream\"], \"kale\")\n",
      "Expecting:\n",
      "    ['burger with kale', 'salad with kale', 'ice cream with kale']\n",
      "ok\n"
     ]
    }
   ],
   "source": [
    "def add_ingredient(menu, ingredient):\n",
    "    \"\"\"Add ingredient to each item on the menu.\n",
    "    \n",
    "    Given a list of string 'menu' items and a trendy 'ingredient' string of the day,\n",
    "    return a new menu list of strings with the ingredient added to each.\n",
    "    \n",
    "    >>> add_ingredient([\"burger\", \"salad\", \"ice cream\"], \"kale\")\n",
    "    ['burger with kale', 'salad with kale', 'ice cream with kale']\n",
    "    \"\"\"\n",
    "    out = []\n",
    "    for item in menu:\n",
    "        out.append(item + \" with \" + ingredient)\n",
    "    return out\n",
    "\n",
    "import doctest\n",
    "doctest.run_docstring_examples(add_ingredient, globals(), verbose=True)"
   ]
  },
  {
   "cell_type": "code",
   "execution_count": 59,
   "metadata": {},
   "outputs": [
    {
     "name": "stdout",
     "output_type": "stream",
     "text": [
      "Finding tests in NoName\n",
      "Trying:\n",
      "    add_ingredient([\"burger\", \"salad\", \"ice cream\"], \"kale\")\n",
      "Expecting:\n",
      "    ['burger with kale', 'salad with kale', 'ice cream with kale']\n",
      "ok\n"
     ]
    }
   ],
   "source": [
    "def add_ingredient(menu, ingredient):\n",
    "    \"\"\"Add ingredient to each item on the menu.\n",
    "    \n",
    "    Given a list of string 'menu' items and a trendy 'ingredient' string of the day,\n",
    "    return a new menu list of strings with the ingredient added to each.\n",
    "    \n",
    "    >>> add_ingredient([\"burger\", \"salad\", \"ice cream\"], \"kale\")\n",
    "    ['burger with kale', 'salad with kale', 'ice cream with kale']\n",
    "    \"\"\"\n",
    "    out = []\n",
    "    for item in menu:\n",
    "        out.append(\" \".join([item, \"with\", ingredient]))\n",
    "    return out\n",
    "\n",
    "import doctest\n",
    "doctest.run_docstring_examples(add_ingredient, globals(), verbose=True)"
   ]
  },
  {
   "cell_type": "code",
   "execution_count": 60,
   "metadata": {},
   "outputs": [
    {
     "name": "stdout",
     "output_type": "stream",
     "text": [
      "Finding tests in NoName\n",
      "Trying:\n",
      "    add_ingredient([\"burger\", \"salad\", \"ice cream\"], \"kale\")\n",
      "Expecting:\n",
      "    ['burger with kale', 'salad with kale', 'ice cream with kale']\n",
      "ok\n"
     ]
    }
   ],
   "source": [
    "def add_ingredient(menu, ingredient):\n",
    "    \"\"\"Add ingredient to each item on the menu.\n",
    "    \n",
    "    Given a list of string 'menu' items and a trendy 'ingredient' string of the day,\n",
    "    return a new menu list of strings with the ingredient added to each.\n",
    "    \n",
    "    >>> add_ingredient([\"burger\", \"salad\", \"ice cream\"], \"kale\")\n",
    "    ['burger with kale', 'salad with kale', 'ice cream with kale']\n",
    "    \"\"\"\n",
    "    out = []\n",
    "    for item in menu:\n",
    "        out.append(\" with \".join([item, ingredient]))\n",
    "    return out\n",
    "\n",
    "import doctest\n",
    "doctest.run_docstring_examples(add_ingredient, globals(), verbose=True)"
   ]
  },
  {
   "cell_type": "markdown",
   "metadata": {},
   "source": [
    "Note that the following passes the test but does not match the documentation. The documentation says that the function returns a *new* list."
   ]
  },
  {
   "cell_type": "code",
   "execution_count": 53,
   "metadata": {},
   "outputs": [
    {
     "name": "stdout",
     "output_type": "stream",
     "text": [
      "Finding tests in NoName\n",
      "Trying:\n",
      "    add_ingredient([\"burger\", \"salad\", \"ice cream\"], \"kale\")\n",
      "Expecting:\n",
      "    ['burger with kale', 'salad with kale', 'ice cream with kale']\n",
      "ok\n"
     ]
    }
   ],
   "source": [
    "def add_ingredient(menu, ingredient):\n",
    "    \"\"\"Add ingredient to each item on the menu.\n",
    "    \n",
    "    Given a list of string 'menu' items and a trendy 'ingredient' string of the day,\n",
    "    return a new menu list of strings with the ingredient added to each.\n",
    "    \n",
    "    >>> add_ingredient([\"burger\", \"salad\", \"ice cream\"], \"kale\")\n",
    "    ['burger with kale', 'salad with kale', 'ice cream with kale']\n",
    "    \"\"\"\n",
    "    for i in range(len(menu)):\n",
    "        menu[i] = menu[i] + \" with \" + ingredient;\n",
    "    return menu\n",
    "\n",
    "import doctest\n",
    "doctest.run_docstring_examples(add_ingredient, globals(), verbose=True)"
   ]
  },
  {
   "cell_type": "markdown",
   "metadata": {},
   "source": [
    "We can add a test case to test for this."
   ]
  },
  {
   "cell_type": "code",
   "execution_count": 54,
   "metadata": {
    "scrolled": false
   },
   "outputs": [
    {
     "name": "stdout",
     "output_type": "stream",
     "text": [
      "Finding tests in NoName\n",
      "Trying:\n",
      "    add_ingredient([\"burger\", \"salad\", \"ice cream\"], \"kale\")\n",
      "Expecting:\n",
      "    ['burger with kale', 'salad with kale', 'ice cream with kale']\n",
      "ok\n",
      "Trying:\n",
      "    menu = [\"burger\", \"salad\", \"ice cream\"]\n",
      "Expecting:\n",
      "    ['burger with kale', 'salad with kale', 'ice cream with kale']\n",
      "**********************************************************************\n",
      "File \"__main__\", line 9, in NoName\n",
      "Failed example:\n",
      "    menu = [\"burger\", \"salad\", \"ice cream\"]\n",
      "Expected:\n",
      "    ['burger with kale', 'salad with kale', 'ice cream with kale']\n",
      "Got nothing\n",
      "Trying:\n",
      "    menu\n",
      "Expecting:\n",
      "    [\"burger\", \"salad\", \"ice cream\"]\n",
      "**********************************************************************\n",
      "File \"__main__\", line 11, in NoName\n",
      "Failed example:\n",
      "    menu\n",
      "Expected:\n",
      "    [\"burger\", \"salad\", \"ice cream\"]\n",
      "Got:\n",
      "    ['burger', 'salad', 'ice cream']\n"
     ]
    }
   ],
   "source": [
    "def add_ingredient(menu, ingredient):\n",
    "    \"\"\"Add ingredient to each item on the menu.\n",
    "    \n",
    "    Given a list of string 'menu' items and a trendy 'ingredient' string of the day,\n",
    "    return a new menu list of strings with the ingredient added to each.\n",
    "    \n",
    "    >>> add_ingredient([\"burger\", \"salad\", \"ice cream\"], \"kale\")\n",
    "    ['burger with kale', 'salad with kale', 'ice cream with kale']\n",
    "    >>> menu = [\"burger\", \"salad\", \"ice cream\"]\n",
    "    ['burger with kale', 'salad with kale', 'ice cream with kale']\n",
    "    >>> menu\n",
    "    [\"burger\", \"salad\", \"ice cream\"]\n",
    "    \"\"\"\n",
    "    for i in range(len(menu)):\n",
    "        menu[i] = menu[i] + \" with \" + ingredient;\n",
    "    return menu\n",
    "\n",
    "import doctest\n",
    "doctest.run_docstring_examples(add_ingredient, globals(), verbose=True)"
   ]
  },
  {
   "cell_type": "markdown",
   "metadata": {},
   "source": [
    "Using a list comprehension (advanced):"
   ]
  },
  {
   "cell_type": "code",
   "execution_count": 61,
   "metadata": {},
   "outputs": [
    {
     "name": "stdout",
     "output_type": "stream",
     "text": [
      "Finding tests in NoName\n",
      "Trying:\n",
      "    add_ingredient([\"burger\", \"salad\", \"ice cream\"], \"kale\")\n",
      "Expecting:\n",
      "    ['burger with kale', 'salad with kale', 'ice cream with kale']\n",
      "ok\n"
     ]
    }
   ],
   "source": [
    "def add_ingredient(menu, ingredient):\n",
    "    \"\"\"Add ingredient to each item on the menu.\n",
    "    \n",
    "    Given a list of string 'menu' items and a trendy 'ingredient' string of the day,\n",
    "    return a new menu list of strings with the ingredient added to each.\n",
    "    \n",
    "    >>> add_ingredient([\"burger\", \"salad\", \"ice cream\"], \"kale\")\n",
    "    ['burger with kale', 'salad with kale', 'ice cream with kale']\n",
    "    \"\"\"\n",
    "    return [item + \" with \" + ingredient for item in menu]\n",
    "\n",
    "import doctest\n",
    "doctest.run_docstring_examples(add_ingredient, globals(), verbose=True)"
   ]
  }
 ],
 "metadata": {
  "anaconda-cloud": {},
  "kernelspec": {
   "display_name": "Python 3",
   "language": "python",
   "name": "python3"
  },
  "language_info": {
   "codemirror_mode": {
    "name": "ipython",
    "version": 3
   },
   "file_extension": ".py",
   "mimetype": "text/x-python",
   "name": "python",
   "nbconvert_exporter": "python",
   "pygments_lexer": "ipython3",
   "version": "3.5.2"
  }
 },
 "nbformat": 4,
 "nbformat_minor": 2
}
