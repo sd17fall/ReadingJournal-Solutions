{
 "cells": [
  {
   "cell_type": "markdown",
   "metadata": {},
   "source": [
    "# Day 8 Reading Journal Solutions\n",
    "\n",
    "Review *Think Python*, [Chapters 11.1-4](http://www.greenteapress.com/thinkpython/html/thinkpython012.html), [12.1-5](http://www.greenteapress.com/thinkpython2/html/thinkpython2013.html)\n",
    "\n",
    "Read _Think Python_, [Chapter 13](http://www.greenteapress.com/thinkpython2/html/thinkpython2014.html), [15](http://www.greenteapress.com/thinkpython2/html/thinkpython2016.html)"
   ]
  },
  {
   "cell_type": "markdown",
   "metadata": {},
   "source": [
    "### Exercise 11.2  \n",
    "\n",
    "Dictionaries have a method called [`get`](https://docs.python.org/3/library/stdtypes.html#mapping-types-dict) that takes a key and a default value. If the key appears in the dictionary, `get` returns the corresponding value; otherwise it returns the default value. For example:\n",
    "\n",
    "```\n",
    ">>> h = histogram('a')\n",
    ">>> print h\n",
    "{'a': 1}\n",
    ">>> h.get('a', 0)\n",
    "1\n",
    ">>> h.get('b', 0)\n",
    "0\n",
    "```\n",
    "\n",
    "Use `get` to rewrite the `histogram` function below more concisely. You should be able to eliminate the `if` statement. Add unit tests (docstring examples) for your histogram implementation."
   ]
  },
  {
   "cell_type": "code",
   "execution_count": 4,
   "metadata": {},
   "outputs": [],
   "source": [
    "import doctest\n",
    "\n",
    "def histogram(s):\n",
    "    \"\"\"Return a table that counts occurrences of each character in s.\n",
    "    \n",
    "    Examples:\n",
    "    >>> histogram('japan')\n",
    "    {'j': 1, 'a': 2, 'p': 1, 'n': 1}\n",
    "    >>> histogram('gggG')\n",
    "    {'g': 3, 'G': 1}\n",
    "    \"\"\"\n",
    "    d = dict()\n",
    "    for c in s:\n",
    "        d[c] = d.get(c, 0) + 1\n",
    "    return d\n",
    "\n",
    "doctest.run_docstring_examples(histogram, globals())"
   ]
  },
  {
   "cell_type": "markdown",
   "metadata": {},
   "source": [
    "## Doctest and `random`\n",
    "\n",
    "Run the following cell a few times. The doctest fails, but it fails with a different \"Got\" value each time. \n",
    "\n",
    "Modify the docstring, by adding a call to `random.seed`, to create a reliable doctest.\n",
    "\n",
    "*Hint*: The [GeneFinder solution set](https://softdes.olin.build/notes/genefinder-solutions#longest_orf_noncoding) gives an example of this."
   ]
  },
  {
   "cell_type": "code",
   "execution_count": 17,
   "metadata": {},
   "outputs": [],
   "source": [
    "import doctest\n",
    "import math\n",
    "import random\n",
    "\n",
    "def random_stats(m):\n",
    "    \"\"\"Generates a random sequence of m numbers 0 <= n < 1, and returns their variance.\n",
    "    \n",
    "    Examples:\n",
    "    >>> random.seed(1)\n",
    "    >>> random_stats(10)\n",
    "    0.292590198245549\n",
    "    \"\"\"\n",
    "    xs = []\n",
    "    for _ in range(m):\n",
    "        xs.append(random.random())\n",
    "    mean = sum(xs) / len(xs)\n",
    "    meansqrs = 0\n",
    "    for x in xs:\n",
    "        meansqrs += (x - mean) ** 2\n",
    "    return math.sqrt(meansqrs / len(xs))\n",
    "\n",
    "doctest.run_docstring_examples(random_stats, globals())"
   ]
  },
  {
   "cell_type": "markdown",
   "metadata": {
    "is_question": true,
    "problem": "Exercise 15.1"
   },
   "source": [
    "### Chapter 15.2  \n",
    "\n",
    "Write a function called `distance_between_points` that takes two `Points` as arguments and returns the distance between them."
   ]
  },
  {
   "cell_type": "code",
   "execution_count": 11,
   "metadata": {
    "solution": "Exercise 15.1"
   },
   "outputs": [
    {
     "name": "stdout",
     "output_type": "stream",
     "text": [
      "1.4142135623730951\n"
     ]
    }
   ],
   "source": [
    "import math\n",
    "\n",
    "def distance_between_points(a, b):\n",
    "    return math.sqrt((a.x - b.x)**2 + (a.y - b.y)**2)\n",
    "\n",
    "class Point:\n",
    "    \"\"\"Represents a point in 2D space\"\"\"\n",
    "\n",
    "pointa = Point()\n",
    "pointa.x = 3.0\n",
    "pointa.y = 4.0\n",
    "\n",
    "pointb = Point()\n",
    "pointb.x = 2.0\n",
    "pointb.y = 3.0\n",
    "\n",
    "print(distance_between_points(pointa, pointb))"
   ]
  },
  {
   "cell_type": "markdown",
   "metadata": {},
   "source": [
    "You can use tuples to assign `x` and `y` at the same time:"
   ]
  },
  {
   "cell_type": "code",
   "execution_count": 21,
   "metadata": {
    "solution": "Exercise 15.1"
   },
   "outputs": [
    {
     "name": "stdout",
     "output_type": "stream",
     "text": [
      "3.1622776601683795\n"
     ]
    }
   ],
   "source": [
    "import math\n",
    "\n",
    "\n",
    "class Point(object):\n",
    "    \"\"\"Represents a point in 2d space.\"\"\"\n",
    "\n",
    "point_one = Point()\n",
    "point_two = Point()\n",
    "\n",
    "point_one.x, point_one.y = 4.0, 1.0\n",
    "point_two.x, point_two.y = 7.0, 2.0\n",
    "\n",
    "\n",
    "def distance(p1, p2):\n",
    "    \"\"\"Returns the distance between two points in 2d space.\"\"\"\n",
    "    dx = p2.x - p1.x\n",
    "    dy = p2.y - p1.y\n",
    "    return math.sqrt(dx ** 2 + dy ** 2)\n",
    "\n",
    "\n",
    "print(distance(point_one, point_two))"
   ]
  },
  {
   "cell_type": "markdown",
   "metadata": {},
   "source": [
    "Yay – unit testing!:"
   ]
  },
  {
   "cell_type": "code",
   "execution_count": 21,
   "metadata": {
    "solution": "Exercise 15.1"
   },
   "outputs": [],
   "source": [
    "import doctest\n",
    "\n",
    "class Point:\n",
    "    \"\"\"Represents a point in 2-D space.\n",
    "\n",
    "    attributes: x, y\n",
    "    \"\"\"\n",
    "\n",
    "def distance_between_points(p1, p2):\n",
    "    \"\"\"\n",
    "    >>> blank = Point()\n",
    "    >>> blank.x = 0\n",
    "    >>> blank.y = 0\n",
    "\n",
    "    >>> grosse = Point()\n",
    "    >>> grosse.x = 3\n",
    "    >>> grosse.y = 4\n",
    "    >>> distance_between_points(grosse, blank)\n",
    "    5.0\n",
    "    \"\"\"\n",
    "    dist = math.sqrt((p1.x - p2.x)**2 + (p1.y - p2.y)**2)\n",
    "    return dist\n",
    "\n",
    "doctest.run_docstring_examples(distance_between_points, globals())"
   ]
  },
  {
   "cell_type": "markdown",
   "metadata": {},
   "source": [
    "This is looking ahead to `__init__`:"
   ]
  },
  {
   "cell_type": "code",
   "execution_count": 42,
   "metadata": {
    "solution": "Exercise 15.1"
   },
   "outputs": [
    {
     "name": "stdout",
     "output_type": "stream",
     "text": [
      "Finding tests in NoName\n",
      "Trying:\n",
      "    p1 = Point(4.0, 6.0)\n",
      "Expecting nothing\n",
      "ok\n",
      "Trying:\n",
      "    p2 = Point(1.0, 2.0)\n",
      "Expecting nothing\n",
      "ok\n",
      "Trying:\n",
      "    distance_between_points(p1, p2)\n",
      "Expecting:\n",
      "    5.0\n",
      "ok\n"
     ]
    }
   ],
   "source": [
    "import doctest\n",
    "import math\n",
    "\n",
    "class Point:\n",
    "    \"\"\"Represents a point in 2D space.\n",
    "    \n",
    "    Attributes: x, y.\n",
    "    \"\"\"\n",
    "    def __init__(self, x, y):\n",
    "        self.x = x\n",
    "        self.y = y\n",
    "\n",
    "def distance_between_points(p1, p2):\n",
    "    \"\"\"Takes two Points as arguments and returns the distance between them.\n",
    "    \n",
    "    Examples:\n",
    "    >>> p1 = Point(4.0, 6.0)\n",
    "    >>> p2 = Point(1.0, 2.0)\n",
    "    >>> distance_between_points(p1, p2)\n",
    "    5.0\n",
    "    \"\"\"\n",
    "    y = p2.y - p1.y\n",
    "    x = p2.x - p1.x\n",
    "    dist = math.sqrt(x**2 + y**2)\n",
    "    return dist\n",
    "    \n",
    "doctest.run_docstring_examples(distance_between_points, globals(), verbose=True)"
   ]
  },
  {
   "cell_type": "markdown",
   "metadata": {
    "is_question": true,
    "problem": "Exercise 15.2"
   },
   "source": [
    "### Chapter 15.5\n",
    "\n",
    "Write a function named `move_rectangle` that takes a `Rectangle` and two numbers named `dx` and `dy`. It should change the location of the rectangle by adding `dx` to the `x` coordinate of `corner` and adding `dy` to the `y` coordinate of `corner`."
   ]
  },
  {
   "cell_type": "code",
   "execution_count": 18,
   "metadata": {
    "solution": "Exercise 15.2"
   },
   "outputs": [
    {
     "name": "stdout",
     "output_type": "stream",
     "text": [
      "230 340\n"
     ]
    }
   ],
   "source": [
    "class Rectangle:\n",
    "    \"\"\"Represents a rectangle.\n",
    "    \n",
    "    Attributes: corner\n",
    "    \"\"\"\n",
    "\n",
    "def move_rectangle(rectangle, dx, dy):\n",
    "    rectangle.corner.x += dx\n",
    "    rectangle.corner.y += dy\n",
    "\n",
    "box = Rectangle()\n",
    "box.corner = Point()\n",
    "box.corner.x = 200\n",
    "box.corner.y = 300\n",
    "\n",
    "move_rectangle(box, 30, 40)\n",
    "\n",
    "print(box.corner.x, box.corner.y)"
   ]
  },
  {
   "cell_type": "code",
   "execution_count": 2,
   "metadata": {
    "solution": "Exercise 15.2"
   },
   "outputs": [
    {
     "name": "stdout",
     "output_type": "stream",
     "text": [
      "15.0 8.0 12.0 39.0\n"
     ]
    }
   ],
   "source": [
    "class Point(object):\n",
    "    \"\"\"Represents a point in 2d space\"\"\"\n",
    "\n",
    "class Rectangle(object):\n",
    "    \"\"\"Represents a rectangle in 2d space\"\"\"\n",
    "\n",
    "def move_rectangle(rect, dx, dy):\n",
    "    rect.bottom_left.x += dx\n",
    "    rect.bottom_left.x += dx\n",
    "    rect.top_right.y += dy\n",
    "    rect.top_right.y += dy\n",
    "\n",
    "\n",
    "rectangle = Rectangle()\n",
    "\n",
    "bottom_left = Point()\n",
    "bottom_left.x = 5.0\n",
    "bottom_left.y = 8.0\n",
    "\n",
    "top_right = Point()\n",
    "top_right.x = 12.0\n",
    "top_right.y = 15.0\n",
    "\n",
    "rectangle.bottom_left = bottom_left\n",
    "rectangle.top_right = top_right\n",
    "\n",
    "move_rectangle(rectangle, 5, 12)\n",
    "\n",
    "print(rectangle.bottom_left.x, rectangle.bottom_left.y, rectangle.top_right.x, rectangle.top_right.y)"
   ]
  },
  {
   "cell_type": "markdown",
   "metadata": {},
   "source": [
    "Using `__repr__` to create a printable representation of instances of the class:"
   ]
  },
  {
   "cell_type": "code",
   "execution_count": 9,
   "metadata": {
    "solution": "Exercise 15.2"
   },
   "outputs": [
    {
     "name": "stdout",
     "output_type": "stream",
     "text": [
      "Finding tests in NoName\n",
      "Trying:\n",
      "    r = Rectangle(4, 5, Point(3, 3))\n",
      "Expecting nothing\n",
      "ok\n",
      "Trying:\n",
      "    move_rectangle(r, 2, 2)\n",
      "Expecting:\n",
      "    Rectangle(4, 5, Point(5, 5))\n",
      "ok\n"
     ]
    }
   ],
   "source": [
    "import doctest\n",
    "\n",
    "class Point:\n",
    "    \"\"\"Represents a 2D point.\"\"\"\n",
    "    \n",
    "    def __init__(self, x, y):\n",
    "        self.x = x\n",
    "        self.y = y\n",
    "    \n",
    "    def __repr__(self):\n",
    "        return 'Point({}, {})'.format(self.x, self.y)\n",
    "\n",
    "class Rectangle:\n",
    "    \"\"\"Represents a 2D rectangle.\"\"\"\n",
    "    \n",
    "    def __init__(self, w, h, point):\n",
    "        self.width = w\n",
    "        self.height = h\n",
    "        self.corner = point\n",
    "    \n",
    "    def __repr__(self):\n",
    "        return 'Rectangle({}, {}, {})'.format(self.width, self.height, self.corner)\n",
    "\n",
    "def move_rectangle(rectangle, dx, dy):\n",
    "    \"\"\"\n",
    "    >>> r = Rectangle(4, 5, Point(3, 3))\n",
    "    >>> move_rectangle(r, 2, 2)\n",
    "    Rectangle(4, 5, Point(5, 5))\n",
    "    \"\"\"\n",
    "    rectangle.corner.x += dx\n",
    "    rectangle.corner.y += dy\n",
    "    return rectangle\n",
    "\n",
    "doctest.run_docstring_examples(move_rectangle, globals(), verbose=True)"
   ]
  },
  {
   "cell_type": "markdown",
   "metadata": {
    "is_question": true,
    "problem": "Exercise 15.3"
   },
   "source": [
    "### Exercise 15.6\n",
    "\n",
    "Write a version of `move_rectangle` that creates and returns a new `Rectangle` instead of modifying the old one."
   ]
  },
  {
   "cell_type": "code",
   "execution_count": 23,
   "metadata": {
    "solution": "Exercise 15.3"
   },
   "outputs": [
    {
     "name": "stdout",
     "output_type": "stream",
     "text": [
      "240 350\n"
     ]
    }
   ],
   "source": [
    "class Rectangle:\n",
    "    \"\"\"Represents a rectangle.\n",
    "    \n",
    "    Attributes: corner\n",
    "    \"\"\"\n",
    "\n",
    "def move_rectangle(rectangle, dx, dy):\n",
    "    new_box = Rectangle()\n",
    "    new_box.corner = Point()\n",
    "    \n",
    "    new_box.corner.x = rectangle.corner.x + dx\n",
    "    new_box.corner.y = rectangle.corner.y + dy\n",
    "    return new_box\n",
    "    \n",
    "box = Rectangle()\n",
    "box.corner = Point()\n",
    "box.corner.x = 200\n",
    "box.corner.y = 300\n",
    "\n",
    "print (move_rectangle(box,40,50).corner.x, move_rectangle(box,40,50).corner.y)"
   ]
  },
  {
   "cell_type": "code",
   "execution_count": 41,
   "metadata": {
    "solution": "Exercise 15.3"
   },
   "outputs": [
    {
     "name": "stdout",
     "output_type": "stream",
     "text": [
      "37.0\n",
      "52.0\n"
     ]
    }
   ],
   "source": [
    "import copy\n",
    "\n",
    "def move_rectangle(box, dx , dy):           #creates a new rectangle in a new place\n",
    "#     box1 = copy.copy(box)   # first i tried the copy function, but the values still changes. I got help creating a new triangle \n",
    "    box1 = Rectangle()\n",
    "    box1.height = box.height\n",
    "    box1.width = box.width\n",
    "    box1.corner = Point()\n",
    "    box1.corner.x = box.corner.x\n",
    "    box1.corner.y = box.corner.y\n",
    "    box1.corner.x = box1.corner.x + dx\n",
    "    box1.corner.y = box1.corner.y + dy\n",
    "    return box1\n",
    "\n",
    "newer_box = move_rectangle(box, 4, 6)      #Storing the new value. \n",
    "print(newer_box.corner.x)                  #is now printing a value that is not changing\n",
    "print(newer_box.corner.y)"
   ]
  },
  {
   "cell_type": "code",
   "execution_count": 27,
   "metadata": {
    "solution": "Exercise 15.3"
   },
   "outputs": [
    {
     "ename": "NameError",
     "evalue": "name 'print_point' is not defined",
     "output_type": "error",
     "traceback": [
      "\u001b[1;31m---------------------------------------------------------------------------\u001b[0m",
      "\u001b[1;31mNameError\u001b[0m                                 Traceback (most recent call last)",
      "\u001b[1;32m<ipython-input-27-66be488a7602>\u001b[0m in \u001b[0;36m<module>\u001b[1;34m()\u001b[0m\n\u001b[0;32m     25\u001b[0m \u001b[0mbottom_left2\u001b[0m \u001b[1;33m=\u001b[0m \u001b[0mcopy\u001b[0m\u001b[1;33m.\u001b[0m\u001b[0mcopy\u001b[0m\u001b[1;33m(\u001b[0m\u001b[0mbottom_left\u001b[0m\u001b[1;33m)\u001b[0m\u001b[1;33m\u001b[0m\u001b[0m\n\u001b[0;32m     26\u001b[0m \u001b[0mtop_right2\u001b[0m \u001b[1;33m=\u001b[0m \u001b[0mcopy\u001b[0m\u001b[1;33m.\u001b[0m\u001b[0mcopy\u001b[0m\u001b[1;33m(\u001b[0m\u001b[0mtop_right\u001b[0m\u001b[1;33m)\u001b[0m\u001b[1;33m\u001b[0m\u001b[0m\n\u001b[1;32m---> 27\u001b[1;33m \u001b[0mprint_point\u001b[0m\u001b[1;33m(\u001b[0m\u001b[0mbottom_left2\u001b[0m\u001b[1;33m)\u001b[0m\u001b[1;33m\u001b[0m\u001b[0m\n\u001b[0m\u001b[0;32m     28\u001b[0m \u001b[0mprint_point\u001b[0m\u001b[1;33m(\u001b[0m\u001b[0mtop_right2\u001b[0m\u001b[1;33m)\u001b[0m\u001b[1;33m\u001b[0m\u001b[0m\n\u001b[0;32m     29\u001b[0m \u001b[1;33m\u001b[0m\u001b[0m\n",
      "\u001b[1;31mNameError\u001b[0m: name 'print_point' is not defined"
     ]
    }
   ],
   "source": [
    "import copy\n",
    "class Point(object):\n",
    "    \"\"\"Represents a point in 2d space\"\"\"\n",
    "\n",
    "\n",
    "class Rectangle(object):\n",
    "    \"\"\"Represents a rectangle in 2d space\"\"\"\n",
    "\n",
    "rectangle = Rectangle()\n",
    "\n",
    "bottom_left = Point()\n",
    "bottom_left.x = 5.0\n",
    "bottom_left.y = 8.0\n",
    "\n",
    "top_right = Point()\n",
    "top_right.x = 12.0\n",
    "top_right.y = 15.0\n",
    "\n",
    "bottom_left2 = copy.copy(bottom_left)\n",
    "top_right2 = copy.copy(top_right)\n",
    "print_point(bottom_left2)\n",
    "print_point(top_right2)\n",
    "\n",
    "rectangle.corner1 = bottom_left2\n",
    "rectangle.corner2 = top_right2\n",
    "\n",
    "dx = 5.0\n",
    "dy = 12.0\n",
    "\n",
    "def move_rectangle(rectangle, dx, dy):\n",
    "    print ((rectangle.corner1.x, rectangle.corner1.y))\n",
    "    print ((rectangle.corner2.x, rectangle.corner2.y))\n",
    "    print ((dx, dy))\n",
    "    rectangle.corner1.x = rectangle.corner1.x + dx\n",
    "    rectangle.corner2.x = rectangle.corner2.x + dx\n",
    "    rectangle.corner1.y = rectangle.corner1.y + dy\n",
    "    rectangle.corner2.y = rectangle.corner2.y + dy\n",
    "    print ((rectangle.corner1.x, rectangle.corner1.y)),\n",
    "    print ((rectangle.corner2.x, rectangle.corner2.y))\n",
    "\n",
    "move_rectangle(rectangle, dx, dy)\n",
    "\n",
    "    "
   ]
  },
  {
   "cell_type": "code",
   "execution_count": 21,
   "metadata": {
    "solution": "Exercise 15.3"
   },
   "outputs": [
    {
     "name": "stdout",
     "output_type": "stream",
     "text": [
      "5 10\n",
      "False\n"
     ]
    }
   ],
   "source": [
    "class Rectangle:\n",
    "    \"\"\"\n",
    "    Coordinates of rectangle defined by corner (Point) and height/width\n",
    "    \"\"\"\n",
    "    \n",
    "def move_rectangle(r, dx, dy):\n",
    "    newr = Rectangle()\n",
    "    newr.corner = Point()\n",
    "    newr.corner.x = r.corner.x + dx;\n",
    "    newr.corner.y = r.corner.y + dy;\n",
    "    return newr\n",
    "    \n",
    "bob = Rectangle()\n",
    "bob.corner = Point()\n",
    "bob.corner.x = 0\n",
    "bob.corner.y = 1\n",
    "joe = move_rectangle(bob, 5, 9)\n",
    "print(joe.corner.x, joe.corner.y)\n",
    "print(joe == bob)"
   ]
  },
  {
   "cell_type": "code",
   "execution_count": null,
   "metadata": {
    "collapsed": true,
    "solution": "Exercise 15.3"
   },
   "outputs": [],
   "source": [
    "def move_rectangle(rec, dx, dy):\n",
    "    x = rec.corner.x + dx\n",
    "    y = rec.corner.y + dy\n",
    "    \n",
    "    rex = Rectangle()\n",
    "    rex.height = rec.height\n",
    "    rex.width = rec.width\n",
    "    rex.corner.x = x\n",
    "    rex.corner.y = y\n",
    "    return rex"
   ]
  },
  {
   "cell_type": "code",
   "execution_count": 62,
   "metadata": {
    "solution": "Exercise 15.3"
   },
   "outputs": [
    {
     "name": "stdout",
     "output_type": "stream",
     "text": [
      "12.0 19.0\n",
      "(14, 23)\n"
     ]
    }
   ],
   "source": [
    "def move_rectangle(rect, dx, dy):\n",
    "    print(rect.corner.x, rect.corner.y)\n",
    "    boxnew = rect\n",
    "    boxnew.corner.x += dx\n",
    "    boxnew.corner.y += dy\n",
    "    return print_point(box.corner)\n",
    "\n",
    "move_rectangle(box, 2, 4)"
   ]
  },
  {
   "cell_type": "code",
   "execution_count": null,
   "metadata": {
    "collapsed": true,
    "solution": "Exercise 15.3"
   },
   "outputs": [],
   "source": [
    "def move_rectangle(rect,dx,dy):\n",
    "    newrect = rect\n",
    "    newrect.corner.x += dx\n",
    "    newrect.corner.y += dy\n",
    "    return newrect"
   ]
  },
  {
   "cell_type": "code",
   "execution_count": 81,
   "metadata": {
    "solution": "Exercise 15.3"
   },
   "outputs": [
    {
     "name": "stdout",
     "output_type": "stream",
     "text": [
      "3.0\n",
      "4.0\n"
     ]
    }
   ],
   "source": [
    "box = Rectangle()\n",
    "box.width = 100.0\n",
    "box.height = 200.0\n",
    "box.corner = Point()\n",
    "box.corner.x = 0.0\n",
    "box.corner.y = 0.0\n",
    "\n",
    "def move_rectangle(rect, dx, dy):\n",
    "    x1 = rect.corner.x + dx\n",
    "    y1 = rect.corner.y + dy\n",
    "    rect.corner.x = x1\n",
    "    rect.corner.y = y1\n",
    "    newrect = Rectangle()\n",
    "    newrect.width = rect.width\n",
    "    newrect.height = rect.height\n",
    "    newrect.corner = Point()\n",
    "    newrect.corner.x = x1\n",
    "    newrect.corner.y = y1\n",
    "    return newrect\n",
    "\n",
    "box_2 = move_rectangle(box,3,4)\n",
    "print(box_2.corner.x)\n",
    "print(box_2.corner.y)"
   ]
  },
  {
   "cell_type": "code",
   "execution_count": 28,
   "metadata": {
    "collapsed": true,
    "solution": "Exercise 15.3"
   },
   "outputs": [],
   "source": [
    "import doctest\n",
    "\n",
    "class Point:\n",
    "    \"\"\"Represents a point in 2-D space.\n",
    "\n",
    "    attributes: x, y\n",
    "    \"\"\"\n",
    "    \n",
    "class Rectangle:\n",
    "    \"\"\"Represents a rectangle. \n",
    "\n",
    "    attributes: width, height, corner.  \n",
    "    \"\"\"\n",
    "    \n",
    "def move_rectangle(rect,dx,dy):\n",
    "    \"\"\"\n",
    "    >>> vertex = Point()\n",
    "    >>> vertex.x = 3\n",
    "    >>> vertex.y = 4\n",
    "    \n",
    "    >>> box = Rectangle()\n",
    "    >>> box.width = 5\n",
    "    >>> box.height = 2\n",
    "    >>> box.corner = vertex\n",
    "    \n",
    "    >>> move_rectangle(box,2,4)\n",
    "    [5, 8]\n",
    "    \"\"\"\n",
    "    new = rect\n",
    "    rect.corner.x += dx\n",
    "    rect.corner.y += dy\n",
    "    return [new.corner.x, new.corner.y]\n",
    "    \n",
    "doctest.run_docstring_examples(move_rectangle, globals())"
   ]
  },
  {
   "cell_type": "code",
   "execution_count": 35,
   "metadata": {
    "solution": "Exercise 15.3"
   },
   "outputs": [
    {
     "name": "stdout",
     "output_type": "stream",
     "text": [
      "(<__main__.Rectangle object at 0x00000157D6E573C8>, 10.0, 10.0)\n"
     ]
    }
   ],
   "source": [
    "def move_rectangle_new(rect,dy,dx):\n",
    "    newrect = Rectangle()\n",
    "    newrect.width = rect.width\n",
    "    newrect.height = rect.height\n",
    "    newrect.corner = Point()\n",
    "    newrect.corner.x = rect.corner.x + dx\n",
    "    newrect.corner.y = rect.corner.y + dy\n",
    "    return newrect, newrect.corner.x, newrect.corner.y\n",
    "\n",
    "\n",
    "print(move_rectangle_new(box,5,5))\n",
    "\n"
   ]
  },
  {
   "cell_type": "code",
   "execution_count": 96,
   "metadata": {
    "solution": "Exercise 15.3"
   },
   "outputs": [
    {
     "name": "stdout",
     "output_type": "stream",
     "text": [
      "3.0 4.0\n"
     ]
    }
   ],
   "source": [
    "import copy\n",
    "\n",
    "class rectangle(object):\n",
    "    '''represent a rectangle'''\n",
    "\n",
    "class point(object):\n",
    "    '''represent a point in 2-D space'''\n",
    "\n",
    "def move_rectangle_v2(rect,dx,dy):\n",
    "    new_rect = copy.copy(rect)\n",
    "    new_rect.corner.x += dx\n",
    "    new_rect.corner.y += dy\n",
    "    \n",
    "    return new_rect\n",
    "\n",
    "rect = rectangle()\n",
    "rect.height = 100.0\n",
    "rect.width  = 200.0\n",
    "rect.corner = point()\n",
    "rect.corner.x = 0.0\n",
    "rect.corner.y = 0.0\n",
    "\n",
    "new_rect = move_rectangle_v2(rect,3,4)\n",
    "print(new_rect.corner.x, new_rect.corner.y)"
   ]
  },
  {
   "cell_type": "code",
   "execution_count": 62,
   "metadata": {
    "solution": "Exercise 15.3"
   },
   "outputs": [
    {
     "name": "stdout",
     "output_type": "stream",
     "text": [
      "Finding tests in NoName\n",
      "Trying:\n",
      "    move_rectangle(r1, 2, 2)\n",
      "Expecting:\n",
      "    [4, 5, [3,4]]\n",
      "ok\n"
     ]
    }
   ],
   "source": [
    "r1 = Rectangle(4,5,Point(1,2))\n",
    "import copy\n",
    "\n",
    "def move_rectangle(rectangle, dx, dy):\n",
    "    '''\n",
    "    >>> move_rectangle(r1, 2, 2)\n",
    "    [4, 5, [3,4]]'''\n",
    "    r2 = copy.copy(rectangle)\n",
    "    r2.corner.x += dx\n",
    "    r2.corner.y += dy\n",
    "    return r2\n",
    "\n",
    "doctest.run_docstring_examples(move_rectangle, globals(), verbose=True)"
   ]
  },
  {
   "cell_type": "code",
   "execution_count": null,
   "metadata": {
    "collapsed": true,
    "solution": "Exercise 15.3"
   },
   "outputs": [],
   "source": [
    "import copy \n",
    "def move_rectangle(Rectangle, dx, dy): \n",
    "    rectangle = copy.copy(Rectangle)\n",
    "    move_rectangle(rectangle, dx, dy)\n",
    "    return rectangle \n"
   ]
  },
  {
   "cell_type": "code",
   "execution_count": 65,
   "metadata": {
    "solution": "Exercise 15.3"
   },
   "outputs": [
    {
     "name": "stdout",
     "output_type": "stream",
     "text": [
      "Finding tests in NoName\n",
      "Trying:\n",
      "    p1 = Point(2, 1)\n",
      "Expecting nothing\n",
      "ok\n",
      "Trying:\n",
      "    rec = Rectangle(3, 4, p1)\n",
      "Expecting nothing\n",
      "ok\n",
      "Trying:\n",
      "    dx, dy = -3, 5\n",
      "Expecting nothing\n",
      "ok\n",
      "Trying:\n",
      "    move_rectangle(rec, dx, dy)\n",
      "Expecting:\n",
      "    (3, 4, (-1, 6))\n",
      "ok\n",
      "Trying:\n",
      "    print((rec.w, rec.h, (rec.c.x, rec.c.y)))\n",
      "Expecting:\n",
      "    (3, 4, (2, 1))\n",
      "ok\n"
     ]
    }
   ],
   "source": [
    "import doctest\n",
    "import math\n",
    "import copy\n",
    "\n",
    "class Point:\n",
    "    \"\"\"Represents a point in 2D space.\n",
    "    \n",
    "    Attributes: x, y.\n",
    "    \"\"\"\n",
    "    def __init__(self, x, y):\n",
    "        self.x = x\n",
    "        self.y = y\n",
    "\n",
    "class Rectangle:\n",
    "    \"\"\"Represents a rectangle.\n",
    "    \n",
    "    Attributes: width, height, corner.\n",
    "    \"\"\"\n",
    "    def __init__(self, width, height, corner):\n",
    "        self.w = width\n",
    "        self.h = height\n",
    "        self.c = corner\n",
    "\n",
    "def move_rectangle(rec, dx, dy):\n",
    "    \"\"\"Takes a Rectangle and two numbers named dx and dy and creates\n",
    "    and returns a new rectangle that has moved dx in the horizontal\n",
    "    direction and dy in the vertical direction.\n",
    "    \n",
    "    Examples:\n",
    "    >>> p1 = Point(2, 1)\n",
    "    >>> rec = Rectangle(3, 4, p1)\n",
    "    >>> dx, dy = -3, 5\n",
    "    >>> move_rectangle(rec, dx, dy)\n",
    "    (3, 4, (-1, 6))\n",
    "    >>> print((rec.w, rec.h, (rec.c.x, rec.c.y)))\n",
    "    (3, 4, (2, 1))\n",
    "    \"\"\"\n",
    "    rec_new = copy.deepcopy(rec)\n",
    "    rec_new.c.x += dx\n",
    "    rec_new.c.y += dy\n",
    "    return rec_new.w, rec_new.h, (rec_new.c.x, rec_new.c.y)\n",
    "\n",
    "doctest.run_docstring_examples(move_rectangle, globals(), verbose=True)"
   ]
  }
 ],
 "metadata": {
  "kernelspec": {
   "display_name": "Python 3",
   "language": "python",
   "name": "python3"
  },
  "language_info": {
   "codemirror_mode": {
    "name": "ipython",
    "version": 3
   },
   "file_extension": ".py",
   "mimetype": "text/x-python",
   "name": "python",
   "nbconvert_exporter": "python",
   "pygments_lexer": "ipython3",
   "version": "3.5.2"
  }
 },
 "nbformat": 4,
 "nbformat_minor": 2
}
