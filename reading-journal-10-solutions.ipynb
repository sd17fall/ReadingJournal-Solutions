{
 "cells": [
  {
   "cell_type": "markdown",
   "metadata": {},
   "source": [
    "# Reading Journal 10 Solutions"
   ]
  },
  {
   "cell_type": "markdown",
   "metadata": {},
   "source": [
    "## Commit Messages\n",
    "\n",
    "Edit the cell below to move each commit messages into the \"Good\" or \"Bad\" list."
   ]
  },
  {
   "cell_type": "markdown",
   "metadata": {},
   "source": [
    "Good:\n",
    "* Remove print statements\n",
    "* Added gravity\n",
    "* Refactored into Ball class\n",
    "* Split Ball.step into two methods and changed bounce computation\n",
    "\n",
    "Bad:\n",
    "* Modify bounces.py\n",
    "* Fixed a thing\n",
    "* Hey John!\n",
    "\n",
    "\n",
    "Terrible:\n",
    "* Oops\n",
    "\n",
    "Probably bad:\n",
    "* Add friction, fixed a couple of bugs, and renamed some variables\n",
    "\n"
   ]
  },
  {
   "cell_type": "markdown",
   "metadata": {},
   "source": [
    "## Variables, Expressions, and Statements\n",
    "\n",
    "1\\. Label each line below with one of \"type\", \"variable\", \"expression\".\n",
    "\n",
    "If you labelled it with \"type\", include the *name* of the type; for example, \"type: int\".\n",
    "\n",
    "The first line has been labelled for you."
   ]
  },
  {
   "cell_type": "code",
   "execution_count": null,
   "metadata": {},
   "outputs": [],
   "source": [
    "5       # type: int\n",
    "3.4     # type: float\n",
    "\"Hello\" # type: str\n",
    "[2, 4, 6] # type: list\n",
    "[\"two\", \"four\", \"six\"] # type: list\n",
    "(2, 4, 6) # type: tuple\n",
    "a = 5  # variable\n",
    "a + 10 # variable\n",
    "math.abs(-10) + 10 # expression"
   ]
  },
  {
   "cell_type": "markdown",
   "metadata": {},
   "source": [
    "2\\. Remove unnecessary parentheses from the lines below. A parenthesis is unnecessary if its removal doesn't change the meaning of the expression."
   ]
  },
  {
   "cell_type": "code",
   "execution_count": null,
   "metadata": {},
   "outputs": [],
   "source": [
    "1 + 2 * 3\n",
    "(1 + 2) * 3\n",
    "3 * 2**3\n",
    "print(2 * 3)\n",
    "print(2 * 3)\n",
    "print(2 * 3)"
   ]
  },
  {
   "cell_type": "markdown",
   "metadata": {
    "is_question": true,
    "problem": "Exercise 17.2"
   },
   "source": [
    "## Math\n",
    "\n",
    "In the cell below, write a function `print_radius` that, given a parameter $angle$, prints the value of $$\\sin^2 \\mathit{angle} + \\cos^2 \\mathit{angle}$$"
   ]
  },
  {
   "cell_type": "code",
   "execution_count": 28,
   "metadata": {
    "scrolled": true,
    "solution": "Exercise 17.2"
   },
   "outputs": [],
   "source": [
    "import doctest\n",
    "import math\n",
    "\n",
    "def print_radius(angle):\n",
    "    \"\"\"\n",
    "    >>> print_radius(45)\n",
    "    1.0\n",
    "    >>> print_radius(0)\n",
    "    1.0\n",
    "    >>> print_radius(math.pi)\n",
    "    1.0\n",
    "    >>> print_radius(555)\n",
    "    1.0\n",
    "    \"\"\"\n",
    "    print(math.sin(angle)**2 + math.cos(angle)**2)\n",
    "    \n",
    "doctest.run_docstring_examples(print_radius, globals())"
   ]
  },
  {
   "cell_type": "markdown",
   "metadata": {},
   "source": [
    "## Fruitful and Fruitless Functions"
   ]
  },
  {
   "cell_type": "markdown",
   "metadata": {},
   "source": [
    "1\\. Fruitful and fruitless functions\n",
    "\n",
    "Is the function `print_radius`, that you wrote above, *fruitful* or *fruitless*? Why?"
   ]
  },
  {
   "cell_type": "markdown",
   "metadata": {},
   "source": [
    "It is fruitless, because it does not return a value."
   ]
  },
  {
   "cell_type": "markdown",
   "metadata": {},
   "source": [
    "2\\. If `print_radius` is fruitful, write a fruitless version of the same function below. If `print_radius` is fruitless, write a fruitful version."
   ]
  },
  {
   "cell_type": "code",
   "execution_count": 29,
   "metadata": {},
   "outputs": [],
   "source": [
    "import doctest\n",
    "import math\n",
    "\n",
    "def compute_radius(angle):\n",
    "    \"\"\"Return the hypotenuse of a triangle given an angle in radians and the length of the leg adjacent to that angle.\n",
    "\n",
    "    >>> print_radius(45)\n",
    "    1.0\n",
    "    >>> print_radius(0)\n",
    "    1.0\n",
    "    >>> print_radius(math.pi)\n",
    "    1.0\n",
    "    >>> print_radius(555)\n",
    "    1.0\n",
    "    \"\"\"\n",
    "    return math.sin(angle)**2 + math.cos(angle)**2\n",
    "\n",
    "doctest.run_docstring_examples(print_radius, globals())"
   ]
  },
  {
   "cell_type": "markdown",
   "metadata": {},
   "source": [
    "3\\. Name (at least) one advantage of `print_radius` over the second radius function."
   ]
  },
  {
   "cell_type": "markdown",
   "metadata": {},
   "source": [
    "4\\. Name (at least) one advantage of the second radius function over `print_radius`. Where is a place you can use the second radius function, where you could not use `print_radius`?"
   ]
  },
  {
   "cell_type": "markdown",
   "metadata": {},
   "source": [
    "## Conversion"
   ]
  },
  {
   "cell_type": "markdown",
   "metadata": {},
   "source": [
    "Modify the following function such that it passes its doctests."
   ]
  },
  {
   "cell_type": "code",
   "execution_count": 5,
   "metadata": {},
   "outputs": [],
   "source": [
    "import doctest\n",
    "\n",
    "def add_string_ints(a, b):\n",
    "    \"\"\"Add two numbers that are represented as strings. Return the result as a string.\n",
    "    \n",
    "    >>> add_string_ints('1', '2')\n",
    "    '3'\n",
    "    >>> add_string_ints('10', '25')\n",
    "    '35'\n",
    "    \"\"\"\n",
    "    return str(int(a) + int(b))\n",
    "\n",
    "doctest.run_docstring_examples(add_string_ints, globals())"
   ]
  },
  {
   "cell_type": "markdown",
   "metadata": {},
   "source": [
    "## Iteration"
   ]
  },
  {
   "cell_type": "markdown",
   "metadata": {},
   "source": [
    "1\\. Some of the lines in the following function have no effect. Remove them."
   ]
  },
  {
   "cell_type": "code",
   "execution_count": null,
   "metadata": {},
   "outputs": [],
   "source": [
    "import doctest\n",
    "\n",
    "def summation(xs):\n",
    "    \"\"\"\n",
    "    >>> summation([1,2,3])\n",
    "    6\n",
    "    \"\"\"\n",
    "    a = 0\n",
    "    i = 0\n",
    "    while i < len(xs):\n",
    "        a += xs[i]\n",
    "        i += 1\n",
    "    return a\n",
    "\n",
    "doctest.run_docstring_examples(summation, globals())"
   ]
  },
  {
   "cell_type": "markdown",
   "metadata": {},
   "source": [
    "2\\. `range`\n",
    "\n",
    "Modify the `summation` function from above to use a `for` loop instead of `while`. Place your answer in the following cell."
   ]
  },
  {
   "cell_type": "code",
   "execution_count": null,
   "metadata": {},
   "outputs": [],
   "source": [
    "import doctest\n",
    "\n",
    "def summation(xs):\n",
    "    \"\"\"\n",
    "    >>> summation([1,2,3])\n",
    "    6\n",
    "    \"\"\"\n",
    "    a = 0\n",
    "    for i in range(len(xs)):\n",
    "        a += xs[i]\n",
    "    return a\n",
    "\n",
    "doctest.run_docstring_examples(summation, globals())"
   ]
  },
  {
   "cell_type": "code",
   "execution_count": 14,
   "metadata": {},
   "outputs": [],
   "source": [
    "import doctest\n",
    "\n",
    "def summation(xs):\n",
    "    \"\"\"\n",
    "    >>> summation([1,2,3])\n",
    "    6\n",
    "    \"\"\"\n",
    "    a = 0\n",
    "    for x in xs:\n",
    "        a += x\n",
    "    return a\n",
    "\n",
    "doctest.run_docstring_examples(summation, globals())"
   ]
  },
  {
   "cell_type": "code",
   "execution_count": 15,
   "metadata": {},
   "outputs": [],
   "source": [
    "import doctest\n",
    "\n",
    "def summation(xs):\n",
    "    \"\"\"\n",
    "    >>> summation([1,2,3])\n",
    "    6\n",
    "    \"\"\"\n",
    "    return sum(xs)\n",
    "\n",
    "doctest.run_docstring_examples(summation, globals())"
   ]
  },
  {
   "cell_type": "markdown",
   "metadata": {},
   "source": [
    "## Factoring and Generalization"
   ]
  },
  {
   "cell_type": "markdown",
   "metadata": {},
   "source": [
    "Write two functions, `sum_squares` and `sum_cubes`. **Refactor** the code that is similar between both functions, to a common function.\n",
    "\n",
    "Below, this function is named `helper`. Rename it to a name that is appropriate for its use."
   ]
  },
  {
   "cell_type": "markdown",
   "metadata": {},
   "source": [
    "Without a helper function:"
   ]
  },
  {
   "cell_type": "code",
   "execution_count": 7,
   "metadata": {},
   "outputs": [],
   "source": [
    "def sum_squares(xs):\n",
    "    \"\"\"Return the sum of the squares.\n",
    "    \n",
    "    >>> sum_squares([1, 2, 3])\n",
    "    14\n",
    "    >>> sum_squares([5, 10, 20])\n",
    "    525\n",
    "    \"\"\"\n",
    "    a = 0\n",
    "    for x in xs:\n",
    "        a += x**2\n",
    "    return a\n",
    "\n",
    "def sum_cubes(xs):\n",
    "    \"\"\"Return the sum of the squares.\n",
    "    \n",
    "    >>> sum_cubes([1, 2])\n",
    "    9\n",
    "    >>> sum_cubes([1, 2, 3])\n",
    "    36\n",
    "    >>> sum_cubes([1, 2, 3, 4])\n",
    "    100\n",
    "    >>> sum_cubes([1, 12])\n",
    "    1729\n",
    "    >>> sum_cubes([9, 10])\n",
    "    1729\n",
    "    \"\"\"\n",
    "    a = 0\n",
    "    for x in xs:\n",
    "        a += x**3\n",
    "    return a\n",
    "\n",
    "doctest.run_docstring_examples(sum_squares, globals())\n",
    "doctest.run_docstring_examples(sum_cubes, globals())"
   ]
  },
  {
   "cell_type": "markdown",
   "metadata": {},
   "source": [
    "With the common code refactored into a helper:"
   ]
  },
  {
   "cell_type": "code",
   "execution_count": null,
   "metadata": {},
   "outputs": [],
   "source": [
    "def sum_power(xs, exp):\n",
    "    a = 0\n",
    "    for x in xs:\n",
    "        a += x ** exp\n",
    "    return a\n",
    "\n",
    "def sum_squares(xs):\n",
    "    \"\"\"Return the sum of the squares.\n",
    "    \n",
    "    >>> sum_squares([1, 2, 3])\n",
    "    14\n",
    "    >>> sum_squares([5, 10, 20])\n",
    "    525\n",
    "    \"\"\"\n",
    "    return sum_power(xs, 2)\n",
    "\n",
    "def sum_cubes(xs):\n",
    "    \"\"\"Return the sum of the squares.\n",
    "    \n",
    "    >>> sum_cubes([1, 2])\n",
    "    9\n",
    "    >>> sum_cubes([1, 2, 3])\n",
    "    36\n",
    "    >>> sum_cubes([1, 2, 3, 4])\n",
    "    100\n",
    "    >>> sum_cubes([1, 12])\n",
    "    1729\n",
    "    >>> sum_cubes([9, 10])\n",
    "    1729\n",
    "    \"\"\"\n",
    "    return sum_power(xs, 3)\n",
    "\n",
    "doctest.run_docstring_examples(sum_squares, globals())\n",
    "doctest.run_docstring_examples(sum_cubes, globals())"
   ]
  },
  {
   "cell_type": "markdown",
   "metadata": {},
   "source": [
    "`sum_power` could also be written this way:"
   ]
  },
  {
   "cell_type": "code",
   "execution_count": null,
   "metadata": {},
   "outputs": [],
   "source": [
    "def sum_power(xs, exp):\n",
    "    return sum(x ** exp for x in xs)"
   ]
  },
  {
   "cell_type": "markdown",
   "metadata": {},
   "source": [
    "## Some Bugs"
   ]
  },
  {
   "cell_type": "markdown",
   "metadata": {},
   "source": [
    "1\\. Fix the errors in the following functions. Assume that the author has selected descriptive (self-documenting) names."
   ]
  },
  {
   "cell_type": "code",
   "execution_count": null,
   "metadata": {},
   "outputs": [],
   "source": [
    "def is_positive(n):\n",
    "    if n > 0:\n",
    "        return 'True'\n",
    "    else:\n",
    "        return 'False'"
   ]
  },
  {
   "cell_type": "code",
   "execution_count": 16,
   "metadata": {},
   "outputs": [],
   "source": [
    "def is_positive(n):\n",
    "    if n > 0:\n",
    "        return True\n",
    "    else:\n",
    "        return False"
   ]
  },
  {
   "cell_type": "code",
   "execution_count": 16,
   "metadata": {},
   "outputs": [],
   "source": [
    "def is_positive(n):\n",
    "    return n > 0"
   ]
  },
  {
   "cell_type": "code",
   "execution_count": null,
   "metadata": {},
   "outputs": [],
   "source": [
    "def capitalize(s):\n",
    "    \"\"\"Capitalize the first word in a string.\n",
    "    \n",
    "    >>> capitalize('lucky')\n",
    "    'Lucky'\n",
    "    >>> capitalize('lucky duck')\n",
    "    'Lucky duck'\n",
    "    >>> capitalize('LUCKY DUCK')\n",
    "    'LUCKY DUCK'\n",
    "    \"\"\"\n",
    "    return s[0].upper() + s[1:]\n",
    "    \n",
    "doctest.run_docstring_examples(capitalize, globals())"
   ]
  },
  {
   "cell_type": "markdown",
   "metadata": {},
   "source": [
    "2\\. The following function passes its test cases, but does not match its description. (It has behavior that could not be guessed from the documentation.)\n",
    "\n",
    "Add docstring examples that reveal the problem. Then fix the function to make the docstring examples pass."
   ]
  },
  {
   "cell_type": "code",
   "execution_count": 27,
   "metadata": {},
   "outputs": [],
   "source": [
    "def string_lengths(ar):\n",
    "    \"\"\"Return a list of the lengths of the strings in ar.\n",
    "    \n",
    "    >>> string_lengths(['A', 'banana'])\n",
    "    [1, 6]\n",
    "    >>> string_lengths(['Another', 'banana', 'plan'])\n",
    "    [7, 6, 4]\n",
    "    >>> values = ['A', 'banana']\n",
    "    >>> string_lengths(values)\n",
    "    [1, 6]\n",
    "    >>> values\n",
    "    ['A', 'banana']\n",
    "    \"\"\"\n",
    "    lens = []\n",
    "    for i in range(len(ar)):\n",
    "        lens.append(len(ar[i]))\n",
    "    return lens\n",
    "\n",
    "doctest.run_docstring_examples(string_lengths, globals())"
   ]
  },
  {
   "cell_type": "markdown",
   "metadata": {
    "feedback_response": true,
    "solution": "Feedback"
   },
   "source": [
    " "
   ]
  }
 ],
 "metadata": {
  "anaconda-cloud": {},
  "kernelspec": {
   "display_name": "Python 3",
   "language": "python",
   "name": "python3"
  },
  "language_info": {
   "codemirror_mode": {
    "name": "ipython",
    "version": 3
   },
   "file_extension": ".py",
   "mimetype": "text/x-python",
   "name": "python",
   "nbconvert_exporter": "python",
   "pygments_lexer": "ipython3",
   "version": "3.5.2"
  }
 },
 "nbformat": 4,
 "nbformat_minor": 2
}
