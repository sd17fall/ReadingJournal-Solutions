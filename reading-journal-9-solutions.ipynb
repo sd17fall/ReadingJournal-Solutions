{
 "cells": [
  {
   "cell_type": "markdown",
   "metadata": {},
   "source": [
    "# Reading Journal 9 Solutions"
   ]
  },
  {
   "cell_type": "markdown",
   "metadata": {
    "is_question": true,
    "problem": "Exercise 15.3"
   },
   "source": [
    "### Modular design\n",
    "\n",
    "Enter your function from the day 10 [Modular Design](https://softdes.olin.build/activities/modular-design) activity.\n",
    "\n",
    "For example, `grid(5, 3)` should produce:\n",
    "\n",
    "    + - - + - - + - - + - - + - - +\n",
    "    |     |     |     |     |     |\n",
    "    |     |     |     |     |     |\n",
    "    + - - + - - + - - + - - + - - +\n",
    "    |     |     |     |     |     |\n",
    "    |     |     |     |     |     |\n",
    "    + - - + - - + - - + - - + - - +\n",
    "    |     |     |     |     |     |\n",
    "    |     |     |     |     |     |\n",
    "    + - - + - - + - - + - - + - - +\n"
   ]
  },
  {
   "cell_type": "markdown",
   "metadata": {},
   "source": [
    "Things to note:\n",
    "\n",
    "* Where there's helper functions: they can print, or they can return a value.\n",
    "* A couple of solutions use functions that take function arguments. (In math, this is (almost) a \"functional\".)\n",
    "* Meaningful variable names can serve as documentation. For example, see the note on `for col in …` immediately below, under Pythonisms.\n",
    "* `5 * ' '`, `(2 * 2 + 1) * ' '`, and `(seg_count + (seg_count + 1) seg_padding) * ' '` are successively more self-documenting. That doesn't mean the longest one is always better! If `(2 * 2 + 1) * ' '` is self-documenting *enough*, it may make it easier to see the big picture than the more verbose version does.\n",
    "\n",
    "\n",
    "Pythonisms:\n",
    "\n",
    "* If you don't use `i`, then `for i in …` can be written `for _ in …`\n",
    "  * This is particularly useful if one for loop is nested inside another.\n",
    "  * However, if `i` is a meaningful variable name, it can serve as documentation. For example, `for col in …` is better documented than either of `for i in …` or `for _ in …`.\n",
    "* `range(0, n)` can be abbreviated `range(n)`\n",
    "* `for _ in range(0, n - 1)` can be written `for _ in range(1, n)`. (This only works when we don't care about the value.)"
   ]
  },
  {
   "cell_type": "code",
   "execution_count": 1,
   "metadata": {
    "solution": "Exercise 15.3"
   },
   "outputs": [
    {
     "name": "stdout",
     "output_type": "stream",
     "text": [
      "+ - - - - + - - - - +\n",
      "|         |         |\n",
      "|         |         |\n",
      "|         |         |\n",
      "|         |         |\n",
      "+ - - - - + - - - - +\n",
      "|         |         |\n",
      "|         |         |\n",
      "|         |         |\n",
      "|         |         |\n",
      "+ - - - - + - - - - +\n"
     ]
    }
   ],
   "source": [
    "def do_n_times(n, f):\n",
    "    row = []\n",
    "    for i in range(n):\n",
    "        row.append(f())\n",
    "    return ' '.join(row)\n",
    "\n",
    "\n",
    "def print_beam():\n",
    "    return '+ - - - -'\n",
    "\n",
    "\n",
    "def print_post():\n",
    "    return '|        '\n",
    "\n",
    "\n",
    "def grid(row, col):\n",
    "    for i in range(col):\n",
    "        plus_row = do_n_times(row, print_beam)\n",
    "        print(plus_row, '+')\n",
    "        for j in range(4):\n",
    "            space_row = do_n_times(row, print_post)\n",
    "            print(space_row, '|')\n",
    "    plus_row = do_n_times(row, print_beam)\n",
    "    print(plus_row, '+')\n",
    "\n",
    "grid(2,2)"
   ]
  },
  {
   "cell_type": "code",
   "execution_count": 12,
   "metadata": {
    "solution": "Exercise 15.3"
   },
   "outputs": [
    {
     "name": "stdout",
     "output_type": "stream",
     "text": [
      "+ - - + - - + - - + - - + - - +\n",
      "|     |     |     |     |     |     \n",
      "|     |     |     |     |     |     \n",
      "+ - - + - - + - - + - - + - - +\n",
      "|     |     |     |     |     |     \n",
      "|     |     |     |     |     |     \n",
      "+ - - + - - + - - + - - + - - +\n",
      "|     |     |     |     |     |     \n",
      "|     |     |     |     |     |     \n",
      "+ - - + - - + - - + - - + - - +\n"
     ]
    }
   ],
   "source": [
    "def printHeightTimes(string,height):\n",
    "    \"\"\"Loops the function height times, where height is the height of one box in the grid\"\"\"\n",
    "    for i in range(0,height):\n",
    "        print(string)\n",
    "\n",
    "def printGrid(row, col,width,height):\n",
    "    \"\"\"Outputs a grid of \"row\" rows by \"col\" columns and squares with width \"width\" and height \"height\".\"\"\"\n",
    "    rowString = \"+ \"+\"- \"*width\n",
    "    columnString = \"| \"+\"  \"*width\n",
    "    for _ in range(row):\n",
    "        print((rowString * col) + \"+\")\n",
    "        printHeightTimes(columnString * (col + 1), height)\n",
    "    print((rowString * col) + \"+\")\n",
    "\n",
    "printGrid(3,5,2,2)"
   ]
  },
  {
   "cell_type": "code",
   "execution_count": 7,
   "metadata": {
    "solution": "Exercise 15.3"
   },
   "outputs": [
    {
     "name": "stdout",
     "output_type": "stream",
     "text": [
      "+ - -  + - -  +\n",
      "|      |      |\n",
      "|      |      |\n",
      "|      |      |\n",
      "|      |      |\n",
      "+ - -  + - -  +\n",
      "|      |      |\n",
      "|      |      |\n",
      "|      |      |\n",
      "|      |      |\n",
      "+ - -  + - -  +\n"
     ]
    }
   ],
   "source": [
    "def do_twice(f):\n",
    "    f()\n",
    "    f()\n",
    "\n",
    "def do_four(f):\n",
    "    do_twice(f)\n",
    "    do_twice(f)\n",
    "\n",
    "def print_beam():\n",
    "    print('+ - - ', end=' ')\n",
    "\n",
    "def print_post():\n",
    "    print('|     ', end=' ')\n",
    "\n",
    "def print_beams():\n",
    "    do_twice(print_beam)\n",
    "    print('+')\n",
    "\n",
    "def print_posts():\n",
    "    do_twice(print_post)\n",
    "    print('|')\n",
    "\n",
    "def print_row():\n",
    "    print_beams()\n",
    "    do_four(print_posts)\n",
    "\n",
    "def print_grid():\n",
    "    do_twice(print_row)\n",
    "    print_beams()\n",
    "\n",
    "print_grid()"
   ]
  },
  {
   "cell_type": "code",
   "execution_count": 5,
   "metadata": {
    "solution": "Exercise 15.3"
   },
   "outputs": [
    {
     "name": "stdout",
     "output_type": "stream",
     "text": [
      "+ - - + - - + - - + - - + - - +\n",
      "|     |     |     |     |     |     \n",
      "|     |     |     |     |     |     \n",
      "+ - - + - - + - - + - - + - - +\n",
      "|     |     |     |     |     |     \n",
      "|     |     |     |     |     |     \n",
      "+ - - + - - + - - + - - + - - +\n",
      "|     |     |     |     |     |     \n",
      "|     |     |     |     |     |     \n",
      "+ - - + - - + - - + - - + - - +\n",
      "+ - - - - + - - - - + - - - - + - - - - + - - - - +\n",
      "|         |         |         |         |         |         \n",
      "|         |         |         |         |         |         \n",
      "|         |         |         |         |         |         \n",
      "|         |         |         |         |         |         \n",
      "+ - - - - + - - - - + - - - - + - - - - + - - - - +\n",
      "|         |         |         |         |         |         \n",
      "|         |         |         |         |         |         \n",
      "|         |         |         |         |         |         \n",
      "|         |         |         |         |         |         \n",
      "+ - - - - + - - - - + - - - - + - - - - + - - - - +\n",
      "|         |         |         |         |         |         \n",
      "|         |         |         |         |         |         \n",
      "|         |         |         |         |         |         \n",
      "|         |         |         |         |         |         \n",
      "+ - - - - + - - - - + - - - - + - - - - + - - - - +\n"
     ]
    }
   ],
   "source": [
    "def printnumtimes(string, num):\n",
    "    for _ in range(num):\n",
    "        print(string)\n",
    "        \n",
    "def grid(col, row, charwidth=6, charheight=3):\n",
    "    scalew = (charwidth - 2) / 2\n",
    "    rem = (charwidth - 2) % 2\n",
    "    rowString = \"+ \" + \"- \" * int(scalew)\n",
    "    columnString = \"|\" + \" \" * int(charwidth - 1 - rem)\n",
    "    for _ in range(row):\n",
    "        print((rowString * col) + \"+\")\n",
    "        printnumtimes(columnString * (col + 1), charheight - 1)\n",
    "    print((rowString * col) + \"+\")\n",
    "\n",
    "grid(5,3)\n",
    "grid(5,3,11,5)"
   ]
  },
  {
   "cell_type": "code",
   "execution_count": 11,
   "metadata": {
    "solution": "Exercise 15.3"
   },
   "outputs": [
    {
     "name": "stdout",
     "output_type": "stream",
     "text": [
      "+ - -+ - -+ - -+ - -+\n",
      "|    |    |    |    |    \n",
      "|    |    |    |    |    \n",
      "+ - -+ - -+ - -+ - -+\n",
      "|    |    |    |    |    \n",
      "|    |    |    |    |    \n",
      "+ - -+ - -+ - -+ - -+\n",
      "|    |    |    |    |    \n",
      "|    |    |    |    |    \n",
      "+ - -+ - -+ - -+ - -+\n"
     ]
    }
   ],
   "source": [
    "def printXTimes(string, x):\n",
    "    for i in range(0, x):\n",
    "        print(string)\n",
    "\n",
    "def grid(row, col, width, height):\n",
    "    \"\"\"\n",
    "    row: number of boxes vertically \n",
    "    col: number of boxes horizontally\n",
    "    width: width (in characters) of each of the boxes\n",
    "    height: height (in characters) of each of the boxes\n",
    "\n",
    "    Width is given in characters, starting with the '+'\n",
    "    '+ - - ' has width six\n",
    "    '+ - - -' has width seven\n",
    "    This gives us an easy way to define odd widths\n",
    "\n",
    "    Height is defined in a similar way, starting with the '+'\n",
    "    '+\n",
    "     |\n",
    "     |\n",
    "     |'\n",
    "    has height four\n",
    "    \"\"\"\n",
    "    \n",
    "    wid = (width - 2) / 2\n",
    "    rem = (width - 2) % 2\n",
    "    rowString = \"+ \" + ('- ' * int(wid))\n",
    "    columnString = '|' + (' ' * int(width - 1))\n",
    "    if rem > 0:\n",
    "        rowString += '-'\n",
    "    for r in range(0, row - 1):\n",
    "        print((rowString * col) + \"+\")\n",
    "        printXTimes(columnString * (col + 1), height - 1)\n",
    "    print((rowString * col) + \"+\")\n",
    "\n",
    "grid(4, 4, 5, 3)"
   ]
  },
  {
   "cell_type": "code",
   "execution_count": 10,
   "metadata": {
    "solution": "Exercise 15.3"
   },
   "outputs": [
    {
     "name": "stdout",
     "output_type": "stream",
     "text": [
      "+ - - + - - + - - + - - + - - +\n",
      "|     |     |     |     |     |\n",
      "|     |     |     |     |     |\n",
      "+ - - + - - + - - + - - + - - +\n",
      "|     |     |     |     |     |\n",
      "|     |     |     |     |     |\n",
      "+ - - + - - + - - + - - + - - +\n",
      "|     |     |     |     |     |\n",
      "|     |     |     |     |     |\n",
      "+ - - + - - + - - + - - + - - +\n"
     ]
    }
   ],
   "source": [
    "def grid(c, e):\n",
    "    a = '+' + c * (2 * ' -' +  ' +')\n",
    "    b = '|' + c * ((2 * 2 + 1) * ' ' + '|')\n",
    "    print(a)\n",
    "    for _ in range(e): \n",
    "        for _ in range(2):\n",
    "            print(b)\n",
    "        print(a)\n",
    "\n",
    "grid(5, 3)"
   ]
  },
  {
   "cell_type": "code",
   "execution_count": 9,
   "metadata": {
    "solution": "Exercise 15.3"
   },
   "outputs": [
    {
     "name": "stdout",
     "output_type": "stream",
     "text": [
      "+ - - - - -+ - - - - -+ - - - - -+ - - - - -+\n",
      "|          |          |          |          |          \n",
      "|          |          |          |          |          \n",
      "|          |          |          |          |          \n",
      "|          |          |          |          |          \n",
      "|          |          |          |          |          \n",
      "+ - - - - -+ - - - - -+ - - - - -+ - - - - -+\n",
      "|          |          |          |          |          \n",
      "|          |          |          |          |          \n",
      "|          |          |          |          |          \n",
      "|          |          |          |          |          \n",
      "|          |          |          |          |          \n",
      "+ - - - - -+ - - - - -+ - - - - -+ - - - - -+\n",
      "|          |          |          |          |          \n",
      "|          |          |          |          |          \n",
      "|          |          |          |          |          \n",
      "|          |          |          |          |          \n",
      "|          |          |          |          |          \n",
      "+ - - - - -+ - - - - -+ - - - - -+ - - - - -+\n",
      "|          |          |          |          |          \n",
      "|          |          |          |          |          \n",
      "|          |          |          |          |          \n",
      "|          |          |          |          |          \n",
      "|          |          |          |          |          \n",
      "+ - - - - -+ - - - - -+ - - - - -+ - - - - -+\n"
     ]
    }
   ],
   "source": [
    "def printFourTimes(string, height):\n",
    "    for i in range(height):\n",
    "        print(string)\n",
    "\n",
    "def printGrid(row, col, width, height):\n",
    "    \"\"\"\n",
    "    Outputs a grid of \"row\" rows by \"col\" columns and squares with width \"width\" and height \"height\".\n",
    "    \"\"\"\n",
    "    rowString = \"+\" + \" -\" * width\n",
    "    columnString = \"|\" + \"  \" * width\n",
    "    for i in range(row):\n",
    "        print((rowString*col) + \"+\")\n",
    "        printFourTimes(columnString * (col + 1), height)\n",
    "    print((rowString * col) + \"+\")\n",
    "\n",
    "printGrid(4, 4, 5, 5)"
   ]
  },
  {
   "cell_type": "code",
   "execution_count": 8,
   "metadata": {
    "solution": "Exercise 15.3"
   },
   "outputs": [
    {
     "name": "stdout",
     "output_type": "stream",
     "text": [
      "+ - - + - - + - - + - - + - - +\n",
      "|     |     |     |     |     |\n",
      "|     |     |     |     |     |\n",
      "+ - - + - - + - - + - - + - - +\n",
      "|     |     |     |     |     |\n",
      "|     |     |     |     |     |\n",
      "+ - - + - - + - - + - - + - - +\n",
      "|     |     |     |     |     |\n",
      "|     |     |     |     |     |\n",
      "+ - - + - - + - - + - - + - - +\n"
     ]
    }
   ],
   "source": [
    "def grid(col,row):\n",
    "\tfor _ in range(row):\n",
    "\t\tprint(\"+ - - \" * col + \"+\")\n",
    "\t\tprint(\"|     \" * col + \"|\")\n",
    "\t\tprint(\"|     \" * col + \"|\")\n",
    "\tprint(\"+ - - \" * col + \"+\")\n",
    "\n",
    "grid(5,3)"
   ]
  },
  {
   "cell_type": "code",
   "execution_count": 7,
   "metadata": {
    "solution": "Exercise 15.3"
   },
   "outputs": [
    {
     "name": "stdout",
     "output_type": "stream",
     "text": [
      "+ - - - - + - - - - + - - - - + - - - - + - - - - + - - - - + - - - - +\n",
      "|         |         |         |         |         |         |         |\n",
      "|         |         |         |         |         |         |         |\n",
      "|         |         |         |         |         |         |         |\n",
      "|         |         |         |         |         |         |         |\n",
      "+ - - - - + - - - - + - - - - + - - - - + - - - - + - - - - + - - - - +\n",
      "|         |         |         |         |         |         |         |\n",
      "|         |         |         |         |         |         |         |\n",
      "|         |         |         |         |         |         |         |\n",
      "|         |         |         |         |         |         |         |\n",
      "+ - - - - + - - - - + - - - - + - - - - + - - - - + - - - - + - - - - +\n",
      "|         |         |         |         |         |         |         |\n",
      "|         |         |         |         |         |         |         |\n",
      "|         |         |         |         |         |         |         |\n",
      "|         |         |         |         |         |         |         |\n",
      "+ - - - - + - - - - + - - - - + - - - - + - - - - + - - - - + - - - - +\n",
      "|         |         |         |         |         |         |         |\n",
      "|         |         |         |         |         |         |         |\n",
      "|         |         |         |         |         |         |         |\n",
      "|         |         |         |         |         |         |         |\n",
      "+ - - - - + - - - - + - - - - + - - - - + - - - - + - - - - + - - - - +\n",
      "|         |         |         |         |         |         |         |\n",
      "|         |         |         |         |         |         |         |\n",
      "|         |         |         |         |         |         |         |\n",
      "|         |         |         |         |         |         |         |\n",
      "+ - - - - + - - - - + - - - - + - - - - + - - - - + - - - - + - - - - +\n",
      "|         |         |         |         |         |         |         |\n",
      "|         |         |         |         |         |         |         |\n",
      "|         |         |         |         |         |         |         |\n",
      "|         |         |         |         |         |         |         |\n",
      "+ - - - - + - - - - + - - - - + - - - - + - - - - + - - - - + - - - - +\n",
      "\n"
     ]
    }
   ],
   "source": [
    "def grid(num_rows, num_cols):\n",
    "    left_plus = '+'\n",
    "    reg_plus = ' +'\n",
    "    dash = ' -'\n",
    "    stick = '|'\n",
    "    header_line = left_plus + (dash * 4 + reg_plus) * num_cols + '\\n'\n",
    "    reg_line = stick + (' ' * 9 + stick) * num_cols + '\\n'\n",
    "    print(header_line + (reg_line * 4 + header_line) * num_rows)\n",
    "\n",
    "grid(6,7)"
   ]
  },
  {
   "cell_type": "code",
   "execution_count": 6,
   "metadata": {
    "solution": "Exercise 15.3"
   },
   "outputs": [
    {
     "name": "stdout",
     "output_type": "stream",
     "text": [
      "+ - - + - - + - - + - - + - - +\n",
      "|     |     |     |     |     |\n",
      "|     |     |     |     |     |\n",
      "+ - - + - - + - - + - - + - - +\n",
      "|     |     |     |     |     |\n",
      "|     |     |     |     |     |\n",
      "+ - - + - - + - - + - - + - - +\n",
      "|     |     |     |     |     |\n",
      "|     |     |     |     |     |\n",
      "+ - - + - - + - - + - - + - - +\n"
     ]
    }
   ],
   "source": [
    "def columnstop(value):\n",
    "    string = ''\n",
    "    if value >= 1:\n",
    "        string = '+ - - +'\n",
    "    for col in range(value - 1): # could also use range(1, value)\n",
    "        string = string + ' - - +'\n",
    "    return string\n",
    "\n",
    "def columnsmiddle(value):\n",
    "    string = ''\n",
    "    if value >= 1:\n",
    "        string = '|     |'\n",
    "    for col in range(value - 1):\n",
    "        string = string + '     |'\n",
    "    return string\n",
    "\n",
    "\n",
    "def grid(columns,rows):\n",
    "    index = 1\n",
    "    while index <= rows * 3 + 1:\n",
    "        if index == 1 or (index - 1) % 3 == 0:\n",
    "            print(columnstop(columns))\n",
    "        else:\n",
    "            print(columnsmiddle(columns))\n",
    "        index = index + 1\n",
    "        \n",
    "grid(5,3)"
   ]
  },
  {
   "cell_type": "code",
   "execution_count": 5,
   "metadata": {},
   "outputs": [
    {
     "name": "stdout",
     "output_type": "stream",
     "text": [
      "+ - - + - - + - - + - - + - - +\n",
      "|     |     |     |     |     |     \n",
      "|     |     |     |     |     |     \n",
      "+ - - + - - + - - + - - + - - +\n",
      "|     |     |     |     |     |     \n",
      "|     |     |     |     |     |     \n",
      "+ - - + - - + - - + - - + - - +\n",
      "|     |     |     |     |     |     \n",
      "|     |     |     |     |     |     \n",
      "+ - - + - - + - - + - - + - - +\n"
     ]
    }
   ],
   "source": [
    "def print_two_row(string):\n",
    "    print(string)\n",
    "    print(string)\n",
    "    \n",
    "row_string = \"+ - - \"\n",
    "col_string = \"|     \"\n",
    "    \n",
    "def grid(col, row):\n",
    "    while row > 0:\n",
    "        row = row - 1  \n",
    "        print((row_string * col) + \"+\") \n",
    "        print_two_row(col_string * (col + 1))\n",
    "    print((row_string * col) + \"+\")\n",
    "    \n",
    "grid(5,3)"
   ]
  },
  {
   "cell_type": "code",
   "execution_count": 4,
   "metadata": {
    "solution": "Exercise 15.3"
   },
   "outputs": [
    {
     "name": "stdout",
     "output_type": "stream",
     "text": [
      "+--+--+--+--+\n",
      "|  |  |  |  |\n",
      "+--+--+--+--+\n",
      "|  |  |  |  |\n",
      "+--+--+--+--+\n"
     ]
    }
   ],
   "source": [
    "def grid(width, height, row, col):\n",
    "    rowString = \"+\" + '-' * width\n",
    "    columnString = \"|\" + \" \" * height\n",
    "    for _ in range(col - 1):\n",
    "        print((rowString * (row - 1)) + \"+\")\n",
    "        print(columnString * (row - 1) + \"|\")\n",
    "    print((rowString * (row - 1) + \"+\"))\n",
    "\n",
    "grid(2, 2, 5, 3)"
   ]
  },
  {
   "cell_type": "code",
   "execution_count": 3,
   "metadata": {
    "solution": "Exercise 15.3"
   },
   "outputs": [
    {
     "name": "stdout",
     "output_type": "stream",
     "text": [
      "+ - - - - + - - - - + - - - - +\n",
      "|         |         |         |\n",
      "|         |         |         |\n",
      "+ - - - - + - - - - + - - - - +\n",
      "|         |         |         |\n",
      "|         |         |         |\n",
      "+ - - - - + - - - - + - - - - +\n",
      "|         |         |         |\n",
      "|         |         |         |\n",
      "+ - - - - + - - - - + - - - - +\n",
      "|         |         |         |\n",
      "|         |         |         |\n",
      "+ - - - - + - - - - + - - - - +\n",
      "|         |         |         |\n",
      "|         |         |         |\n",
      "+ - - - - + - - - - + - - - - +\n"
     ]
    }
   ],
   "source": [
    "def grid(n,m):\n",
    "    while n > 0:\n",
    "        print('+ - - - - ' * m + '+')\n",
    "        print('|         ' * m + '|')\n",
    "        print('|         ' * m + '|')\n",
    "        n -= 1\n",
    "    print('+ - - - - ' * m + '+')\n",
    "\n",
    "grid(5, 3)"
   ]
  },
  {
   "cell_type": "code",
   "execution_count": 1,
   "metadata": {
    "scrolled": true,
    "solution": "Exercise 15.3"
   },
   "outputs": [
    {
     "name": "stdout",
     "output_type": "stream",
     "text": [
      "+ - - + - - + - - + - - + - - +\n",
      "|     |     |     |     |     |\n",
      "|     |     |     |     |     |\n",
      "+ - - + - - + - - + - - + - - +\n",
      "|     |     |     |     |     |\n",
      "|     |     |     |     |     |\n",
      "+ - - + - - + - - + - - + - - +\n",
      "|     |     |     |     |     |\n",
      "|     |     |     |     |     |\n",
      "+ - - + - - + - - + - - + - - +\n"
     ]
    }
   ],
   "source": [
    "def do_n_times(n, f):\n",
    "    \"\"\"Returns row of grid, e.g. '+ - - + - -' for beam row when width of grid is 2\n",
    "    \n",
    "    Args:\n",
    "        n: number of times to perform function\n",
    "        f: function to perform, i.e. build beam row or build post row\n",
    "    \n",
    "    Returns:\n",
    "        string with everything in row of grid except last symbol\n",
    "    \"\"\"\n",
    "    row = []\n",
    "    for i in range(n):\n",
    "        row.append(f)\n",
    "    return ' '.join(row)\n",
    "\n",
    "\n",
    "def beam(x):\n",
    "    \"\"\"Returns beam row of individual box, e.g. '+ - -' for box with 2 width\n",
    "    \n",
    "    Args:\n",
    "        x: number of '-' to print; width of individual box\n",
    "    \n",
    "    Returns:\n",
    "        string with everything in beam row of individual box except last symbol\n",
    "    \"\"\"\n",
    "    col = ['+']\n",
    "    for i in range(x):\n",
    "        col.append('-')\n",
    "    return ' '.join(col)\n",
    "\n",
    "\n",
    "def post(x):\n",
    "    \"\"\"Returns post row of individual box, e.g. '|    ' for box with 2 width\n",
    "    \n",
    "    Args:\n",
    "        x: number of ' ' to print; width of individual box\n",
    "    \n",
    "    Returns:\n",
    "        string with everything in post row of individual box except last symbol\n",
    "    \"\"\"\n",
    "    col = ['|']\n",
    "    for i in range(x):\n",
    "        col.append(' ')\n",
    "    return ' '.join(col)\n",
    "\n",
    "\n",
    "def grid(row, col, x=2, y=2):\n",
    "    \"\"\"Prints grid with row by col boxes, x by y width each\n",
    "    \n",
    "    Args:\n",
    "        row: number of boxes per row\n",
    "        col: number of boxes per column\n",
    "        x: width of box, set to 2 as default\n",
    "        y: height of box, set to 2 as default\n",
    "    \"\"\"\n",
    "    for _ in range(col):\n",
    "        beam_row = do_n_times(row, beam(x))\n",
    "        print(beam_row, '+')\n",
    "        for _ in range(y):\n",
    "            post_row = do_n_times(row, post(x))\n",
    "            print(post_row, '|')\n",
    "    beam_row = do_n_times(row, beam(x))\n",
    "    print(beam_row, '+')\n",
    "\n",
    "grid(5, 3)"
   ]
  }
 ],
 "metadata": {
  "kernelspec": {
   "display_name": "Python 3",
   "language": "python",
   "name": "python3"
  },
  "language_info": {
   "codemirror_mode": {
    "name": "ipython",
    "version": 3
   },
   "file_extension": ".py",
   "mimetype": "text/x-python",
   "name": "python",
   "nbconvert_exporter": "python",
   "pygments_lexer": "ipython3",
   "version": "3.5.2"
  }
 },
 "nbformat": 4,
 "nbformat_minor": 2
}
