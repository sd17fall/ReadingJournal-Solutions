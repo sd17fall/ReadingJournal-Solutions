{
 "cells": [
  {
   "cell_type": "markdown",
   "metadata": {},
   "source": [
    "# Reading Journal 2 Solutions\n",
    "\n",
    "This journal includes several required exercises, but it is meant to encourage active reading more generally.  You may use the journal to take detailed notes, catalog questions, and explore the content from *Think Python* deeply.\n",
    "\n",
    "Reading: Think Python [Chapter 6.1-6.4](http://greenteapress.com/thinkpython2/html/thinkpython2007.html), [Chapter 7.1-7.4](http://greenteapress.com/thinkpython2/html/thinkpython2008.html)"
   ]
  },
  {
   "cell_type": "markdown",
   "metadata": {},
   "source": [
    "## [Chapter 6.1-6.4](http://greenteapress.com/thinkpython2/html/thinkpython2007.html)"
   ]
  },
  {
   "cell_type": "markdown",
   "metadata": {},
   "source": [
    "### Section 6.1 \n",
    "1\\. **Exercise 6.1.** Write a `compare` function that returns `1` if `x > y`, `0` if `x == y`, and `-1` if `x < y`."
   ]
  },
  {
   "cell_type": "markdown",
   "metadata": {},
   "source": [
    "As with Reading Journal 1, I've updated these to conform to the [Python style guide](https://www.python.org/dev/peps/pep-0008/)."
   ]
  },
  {
   "cell_type": "code",
   "execution_count": 1,
   "metadata": {},
   "outputs": [
    {
     "name": "stdout",
     "output_type": "stream",
     "text": [
      "-1\n",
      "0\n",
      "1\n"
     ]
    }
   ],
   "source": [
    "def compare(x, y):\n",
    "    if x > y:\n",
    "        return 1\n",
    "    if x == y:\n",
    "        return 0\n",
    "    if x < y:\n",
    "        return -1\n",
    "\n",
    "print(compare(10, 20))\n",
    "print(compare(20, 20))\n",
    "print(compare(30, 20))"
   ]
  },
  {
   "cell_type": "code",
   "execution_count": 2,
   "metadata": {},
   "outputs": [
    {
     "name": "stdout",
     "output_type": "stream",
     "text": [
      "-1\n",
      "0\n",
      "1\n"
     ]
    }
   ],
   "source": [
    "def compare(x, y):\n",
    "    if x > y:\n",
    "        return 1\n",
    "    elif x == y:\n",
    "        return 0\n",
    "    else:\n",
    "        return -1\n",
    "    \n",
    "print(compare(10, 20))\n",
    "print(compare(20, 20))\n",
    "print(compare(30, 20))"
   ]
  },
  {
   "cell_type": "code",
   "execution_count": 3,
   "metadata": {},
   "outputs": [
    {
     "name": "stdout",
     "output_type": "stream",
     "text": [
      "-1\n",
      "0\n",
      "1\n"
     ]
    }
   ],
   "source": [
    "def compare(x, y):\n",
    "    delta = x - y\n",
    "    if delta < 0:\n",
    "        return -1\n",
    "    elif delta == 0:\n",
    "        return 0\n",
    "    else:\n",
    "        return 1\n",
    "    \n",
    "print(compare(1,2))\n",
    "print(compare(1,1))\n",
    "print(compare(2,1))"
   ]
  },
  {
   "cell_type": "markdown",
   "metadata": {},
   "source": [
    "### Section 6.2 \n",
    "Use incremental development to write a function called `hypotenuse` that returns the length of the hypotenuse of a right triangle given the lengths of the two legs as arguments.\n",
    "\n",
    "Record each stage of the development process as you go, using as many cells as you need. Insert a cell via the + icon in the toolbox above, the “Insert > Insert Cell Below” menu item, or the escape+`b` keyboard shortcut."
   ]
  },
  {
   "cell_type": "markdown",
   "metadata": {},
   "source": [
    "Start with the stub:"
   ]
  },
  {
   "cell_type": "code",
   "execution_count": 6,
   "metadata": {
    "scrolled": true
   },
   "outputs": [
    {
     "name": "stdout",
     "output_type": "stream",
     "text": [
      "0.0\n"
     ]
    }
   ],
   "source": [
    "import math\n",
    "\n",
    "def hypotenuse(a, b):\n",
    "    return 0.0\n",
    "\n",
    "print(hypotenuse(3, 4))"
   ]
  },
  {
   "cell_type": "code",
   "execution_count": 11,
   "metadata": {
    "scrolled": false
   },
   "outputs": [
    {
     "name": "stdout",
     "output_type": "stream",
     "text": [
      "c = 5.0\n",
      "0.0\n"
     ]
    }
   ],
   "source": [
    "import math\n",
    "\n",
    "def hypotenuse(a, b):\n",
    "    c = math.sqrt(a**2 + b**2)\n",
    "    print('c =', c)\n",
    "    return 0.0\n",
    "\n",
    "print(hypotenuse(3, 4))"
   ]
  },
  {
   "cell_type": "markdown",
   "metadata": {},
   "source": [
    "Now that we see the value is being computed correctly, we can return it.\n",
    "\n",
    "\\[This example is a bit forced. We could have seen that just as well by returning the value to where the caller prints it, as by printing it and the returning 0. This illustrates the general technique from the text, though.\\]"
   ]
  },
  {
   "cell_type": "code",
   "execution_count": 12,
   "metadata": {
    "scrolled": false
   },
   "outputs": [
    {
     "name": "stdout",
     "output_type": "stream",
     "text": [
      "c = 5.0\n",
      "5.0\n"
     ]
    }
   ],
   "source": [
    "import math\n",
    "\n",
    "def hypotenuse(a, b):\n",
    "    c = math.sqrt(a**2 + b**2)\n",
    "    print('c =', c)\n",
    "    return c\n",
    "\n",
    "print(hypotenuse(3, 4))"
   ]
  },
  {
   "cell_type": "markdown",
   "metadata": {},
   "source": [
    "And now we no longer need the `print` statement."
   ]
  },
  {
   "cell_type": "code",
   "execution_count": 13,
   "metadata": {
    "scrolled": false
   },
   "outputs": [
    {
     "name": "stdout",
     "output_type": "stream",
     "text": [
      "5.0\n"
     ]
    }
   ],
   "source": [
    "import math\n",
    "\n",
    "def hypotenuse(a, b):\n",
    "    c = math.sqrt(a**2 + b**2)\n",
    "    return c\n",
    "\n",
    "print(hypotenuse(3, 4))"
   ]
  },
  {
   "cell_type": "markdown",
   "metadata": {},
   "source": [
    "Optionally, remove the temporary variable and use the expression directly in the return statement."
   ]
  },
  {
   "cell_type": "code",
   "execution_count": 14,
   "metadata": {
    "scrolled": false
   },
   "outputs": [
    {
     "name": "stdout",
     "output_type": "stream",
     "text": [
      "5.0\n"
     ]
    }
   ],
   "source": [
    "import math\n",
    "\n",
    "def hypotenuse(a, b):\n",
    "    return math.sqrt(a**2 + b**2)\n",
    "\n",
    "print(hypotenuse(3, 4))"
   ]
  },
  {
   "cell_type": "markdown",
   "metadata": {},
   "source": [
    "### Section 6.4\n",
    "1\\. Write a function `is_between(x, y, z)` that returns `True` if `x ≤ y ≤ z` or `False` otherwise."
   ]
  },
  {
   "cell_type": "code",
   "execution_count": 19,
   "metadata": {
    "scrolled": true
   },
   "outputs": [
    {
     "name": "stdout",
     "output_type": "stream",
     "text": [
      "False\n",
      "True\n",
      "True\n",
      "True\n",
      "False\n"
     ]
    }
   ],
   "source": [
    "def is_between(x, y, z):\n",
    "    if x <= y and y <= z:\n",
    "        return True\n",
    "    else:\n",
    "        return False\n",
    "\n",
    "print(is_between(2, 1, 4))\n",
    "print(is_between(2, 2, 4))\n",
    "print(is_between(2, 3, 4))\n",
    "print(is_between(2, 4, 4))\n",
    "print(is_between(2, 5, 4))"
   ]
  },
  {
   "cell_type": "code",
   "execution_count": null,
   "metadata": {},
   "outputs": [],
   "source": [
    "Equivalently:"
   ]
  },
  {
   "cell_type": "code",
   "execution_count": 20,
   "metadata": {
    "scrolled": true
   },
   "outputs": [
    {
     "name": "stdout",
     "output_type": "stream",
     "text": [
      "False\n",
      "True\n",
      "True\n",
      "True\n",
      "False\n"
     ]
    }
   ],
   "source": [
    "def is_between(x, y, z):\n",
    "    if x <= y and y <= z:\n",
    "        return True\n",
    "    return False\n",
    "\n",
    "print(is_between(2, 1, 4))\n",
    "print(is_between(2, 2, 4))\n",
    "print(is_between(2, 3, 4))\n",
    "print(is_between(2, 4, 4))\n",
    "print(is_between(2, 5, 4))"
   ]
  },
  {
   "cell_type": "code",
   "execution_count": null,
   "metadata": {},
   "outputs": [],
   "source": [
    "Parentheses are harmless but unnecessary:"
   ]
  },
  {
   "cell_type": "code",
   "execution_count": 21,
   "metadata": {
    "scrolled": true
   },
   "outputs": [
    {
     "name": "stdout",
     "output_type": "stream",
     "text": [
      "False\n",
      "True\n",
      "True\n",
      "True\n",
      "False\n"
     ]
    }
   ],
   "source": [
    "def is_between(x, y, z):\n",
    "    if (x <= y and y <= z):\n",
    "        return True\n",
    "    return False\n",
    "\n",
    "print(is_between(2, 1, 4))\n",
    "print(is_between(2, 2, 4))\n",
    "print(is_between(2, 3, 4))\n",
    "print(is_between(2, 4, 4))\n",
    "print(is_between(2, 5, 4))"
   ]
  },
  {
   "cell_type": "markdown",
   "metadata": {},
   "source": [
    "`if expr: return True; else: return False` can always be abbreviated to just `expr`:"
   ]
  },
  {
   "cell_type": "code",
   "execution_count": 22,
   "metadata": {},
   "outputs": [
    {
     "name": "stdout",
     "output_type": "stream",
     "text": [
      "False\n",
      "True\n",
      "True\n",
      "True\n",
      "False\n"
     ]
    }
   ],
   "source": [
    "def is_between(x, y, z):\n",
    "    return x <= y and y <= z\n",
    "\n",
    "print(is_between(2, 1, 4))\n",
    "print(is_between(2, 2, 4))\n",
    "print(is_between(2, 3, 4))\n",
    "print(is_between(2, 4, 4))\n",
    "print(is_between(2, 5, 4))"
   ]
  },
  {
   "cell_type": "markdown",
   "metadata": {},
   "source": [
    "Oops! Remember that the string `'true'` is not the same as the boolean value `True`!\n",
    "(And neither is the string `'True'` the same as the boolean value `True` – the problem is the quotes, that make a string, not (just) the capitalization.)"
   ]
  },
  {
   "cell_type": "code",
   "execution_count": 24,
   "metadata": {},
   "outputs": [],
   "source": [
    "def is_between(x,y,z):\n",
    "    if x <= y <= z:\n",
    "        return 'true'\n",
    "    else:\n",
    "        return 'false'"
   ]
  },
  {
   "cell_type": "code",
   "execution_count": 10,
   "metadata": {},
   "outputs": [
    {
     "name": "stdout",
     "output_type": "stream",
     "text": [
      "True\n",
      "False\n",
      "False\n"
     ]
    }
   ],
   "source": [
    "def is_between(x,y,z):\n",
    "    if x <= y & y <= z:\n",
    "        return True\n",
    "    else:\n",
    "        return False\n",
    "\n",
    "print(is_between(2, 1, 4))\n",
    "print(is_between(2, 2, 4))\n",
    "print(is_between(2, 3, 4))\n",
    "print(is_between(2, 4, 4))\n",
    "print(is_between(2, 5, 4)) "
   ]
  },
  {
   "cell_type": "markdown",
   "metadata": {},
   "source": [
    "This works in Python (although not in most other programming languages):"
   ]
  },
  {
   "cell_type": "code",
   "execution_count": 25,
   "metadata": {},
   "outputs": [
    {
     "name": "stdout",
     "output_type": "stream",
     "text": [
      "False\n",
      "True\n",
      "True\n",
      "True\n",
      "False\n"
     ]
    }
   ],
   "source": [
    "def is_between(x, y, z):\n",
    "    if x <= y <= z:\n",
    "        return True\n",
    "    else:\n",
    "        return False\n",
    "    \n",
    "print(is_between(2, 1, 4))\n",
    "print(is_between(2, 2, 4))\n",
    "print(is_between(2, 3, 4))\n",
    "print(is_between(2, 4, 4))\n",
    "print(is_between(2, 5, 4))"
   ]
  },
  {
   "cell_type": "markdown",
   "metadata": {},
   "source": [
    "I'm just messing with you. The following isn't necessarily *good* (it's slower and harder to understand), but it is *different*. There are cases where something like this is a good approach, so it's good to have in your toolbox even if this is the wrong place to use it."
   ]
  },
  {
   "cell_type": "code",
   "execution_count": 28,
   "metadata": {},
   "outputs": [
    {
     "name": "stdout",
     "output_type": "stream",
     "text": [
      "False\n",
      "True\n",
      "True\n",
      "True\n",
      "False\n"
     ]
    }
   ],
   "source": [
    "def is_between(a, b, c):\n",
    "    return sorted([a, b, c]) == [a, b, c]\n",
    "    \n",
    "print(is_between(2, 1, 4))\n",
    "print(is_between(2, 2, 4))\n",
    "print(is_between(2, 3, 4))\n",
    "print(is_between(2, 4, 4))\n",
    "print(is_between(2, 5, 4))"
   ]
  },
  {
   "cell_type": "markdown",
   "metadata": {},
   "source": [
    "## [Chapter 7](http://greenteapress.com/thinkpython2/html/thinkpython2008.html)\n",
    "\n"
   ]
  },
  {
   "cell_type": "markdown",
   "metadata": {},
   "source": [
    "**Quick check:** How do you test for equality in Python?"
   ]
  },
  {
   "cell_type": "markdown",
   "metadata": {},
   "source": [
    "The `==` operator: `a == b`."
   ]
  },
  {
   "cell_type": "markdown",
   "metadata": {},
   "source": [
    "### Section 7.3\n",
    "Write a function called `doubles` that takes `a` as a parameter, prints its value, doubles it and prints that, and continues until the next value would be greater than one million. (It should stop before printing any value greater than one million.)"
   ]
  },
  {
   "cell_type": "code",
   "execution_count": 16,
   "metadata": {
    "scrolled": true
   },
   "outputs": [
    {
     "name": "stdout",
     "output_type": "stream",
     "text": [
      "5\n",
      "10\n",
      "20\n",
      "40\n",
      "80\n",
      "160\n",
      "320\n",
      "640\n",
      "1280\n",
      "2560\n",
      "5120\n",
      "10240\n",
      "20480\n",
      "40960\n",
      "81920\n",
      "163840\n",
      "327680\n",
      "655360\n"
     ]
    }
   ],
   "source": [
    "def doubles(a):\n",
    "    while a < 1000000:\n",
    "        print(a)\n",
    "        a = a * 2\n",
    "    \n",
    "doubles(5)"
   ]
  },
  {
   "cell_type": "markdown",
   "metadata": {},
   "source": [
    "Here's another way to writing a million, that makes it easier not to get lost counting zeros. (`1e6` is actually a float, equal to `1000000.0`. It works the same in this context.)"
   ]
  },
  {
   "cell_type": "code",
   "execution_count": 35,
   "metadata": {
    "scrolled": true
   },
   "outputs": [
    {
     "name": "stdout",
     "output_type": "stream",
     "text": [
      "5\n",
      "10\n",
      "20\n",
      "40\n",
      "80\n",
      "160\n",
      "320\n",
      "640\n",
      "1280\n",
      "2560\n",
      "5120\n",
      "10240\n",
      "20480\n",
      "40960\n",
      "81920\n",
      "163840\n",
      "327680\n",
      "655360\n"
     ]
    }
   ],
   "source": [
    "def doubles(a):\n",
    "    while a < 1e6:\n",
    "        print(a)\n",
    "        a = a * 2\n",
    "    \n",
    "doubles(5)"
   ]
  },
  {
   "cell_type": "markdown",
   "metadata": {},
   "source": [
    "### Section 7.5 (Optional)\n",
    "Encapsulate the loop from Section 7.5 in a function called `square_root` that takes `a` as a parameter, chooses a reasonable value of `x`, and returns an estimate of the square root of `a`."
   ]
  },
  {
   "cell_type": "code",
   "execution_count": 72,
   "metadata": {},
   "outputs": [
    {
     "data": {
      "text/plain": [
       "2.6457513110645907"
      ]
     },
     "execution_count": 72,
     "metadata": {},
     "output_type": "execute_result"
    }
   ],
   "source": [
    "def square_root(a):\n",
    "    x = a / 2\n",
    "    while True:\n",
    "        y = (x + a/x) / 2\n",
    "        if y == x:\n",
    "            break\n",
    "        x = y\n",
    "    return x\n",
    "\n",
    "square_root(7)"
   ]
  },
  {
   "cell_type": "markdown",
   "metadata": {},
   "source": [
    "Variants:"
   ]
  },
  {
   "cell_type": "code",
   "execution_count": 38,
   "metadata": {
    "scrolled": true
   },
   "outputs": [
    {
     "name": "stdout",
     "output_type": "stream",
     "text": [
      "2.6457513110645907\n"
     ]
    }
   ],
   "source": [
    "def square_root(a):\n",
    "    x = a / 2\n",
    "    while True:\n",
    "        y = (x + a/x) / 2\n",
    "        if y == x:\n",
    "            return x\n",
    "        x = y\n",
    "\n",
    "square_root(7)"
   ]
  },
  {
   "cell_type": "markdown",
   "metadata": {},
   "source": [
    "Since these are floats, not real numbers, the above might never converge. Here's a more numerically aware way to do this."
   ]
  },
  {
   "cell_type": "code",
   "execution_count": 55,
   "metadata": {},
   "outputs": [
    {
     "data": {
      "text/plain": [
       "2.6457513110645907"
      ]
     },
     "execution_count": 55,
     "metadata": {},
     "output_type": "execute_result"
    }
   ],
   "source": [
    "def square_root(a):\n",
    "    epsilon = 0.0000001\n",
    "    x = a / 2\n",
    "    while True:\n",
    "        y = (x + a/x) / 2\n",
    "        if -epsilon < y - x < epsilon:\n",
    "            break\n",
    "        x = y\n",
    "    return y\n",
    "        \n",
    "square_root(7)"
   ]
  },
  {
   "cell_type": "markdown",
   "metadata": {},
   "source": [
    "`epsilon` could also be written `1e-7` (if I counted right). And here's how to do it with `abs` instead of two comparisons."
   ]
  },
  {
   "cell_type": "code",
   "execution_count": 78,
   "metadata": {},
   "outputs": [
    {
     "name": "stdout",
     "output_type": "stream",
     "text": [
      "1.000000000000001\n",
      "2.6457513110645907\n"
     ]
    }
   ],
   "source": [
    "def square_root(a):\n",
    "    epsilon = 1e-7\n",
    "    x = a / 2\n",
    "    while True:\n",
    "        y = (x + a/x) / 2\n",
    "        if abs(y - x) < epsilon:\n",
    "            break\n",
    "        x = y\n",
    "    return y\n",
    "        \n",
    "square_root(7)"
   ]
  },
  {
   "cell_type": "markdown",
   "metadata": {},
   "source": [
    "Unfortunately, the above breaks before calculating the value as precisely as it could:"
   ]
  },
  {
   "cell_type": "code",
   "execution_count": 79,
   "metadata": {
    "scrolled": true
   },
   "outputs": [
    {
     "data": {
      "text/plain": [
       "1.000000000000001"
      ]
     },
     "execution_count": 79,
     "metadata": {},
     "output_type": "execute_result"
    }
   ],
   "source": [
    "square_root(1)"
   ]
  },
  {
   "cell_type": "markdown",
   "metadata": {},
   "source": [
    "A little Googling for \"float\", converge\", \"python\", and \"epsilon\" [finds the right value](https://stackoverflow.com/questions/9528421/value-for-epsilon-in-python/9528651):"
   ]
  },
  {
   "cell_type": "code",
   "execution_count": 80,
   "metadata": {},
   "outputs": [
    {
     "name": "stdout",
     "output_type": "stream",
     "text": [
      "1.0\n",
      "2.6457513110645907\n"
     ]
    }
   ],
   "source": [
    "import sys\n",
    "\n",
    "def square_root(a):\n",
    "    epsilon = sys.float_info.epsilon\n",
    "    x = a / 2\n",
    "    while True:\n",
    "        y = (x + a/x) / 2\n",
    "        if abs(y - x) < epsilon:\n",
    "            break\n",
    "        x = y\n",
    "    return y\n",
    "\n",
    "print(square_root(1))\n",
    "print(square_root(7))"
   ]
  },
  {
   "cell_type": "markdown",
   "metadata": {},
   "source": [
    "You can also test within the `while` clause. (It takes some algebra to decide whether initializing `y` to 0 is correct here.)"
   ]
  },
  {
   "cell_type": "code",
   "execution_count": 88,
   "metadata": {
    "scrolled": true
   },
   "outputs": [
    {
     "name": "stdout",
     "output_type": "stream",
     "text": [
      "1.0\n",
      "2.6457513110645907\n"
     ]
    }
   ],
   "source": [
    "def square_root(a):\n",
    "    epsilon = sys.float_info.epsilon\n",
    "    x = a / 2\n",
    "    y = 0\n",
    "    while abs(y - x) > epsilon:\n",
    "        y = x\n",
    "        x = (x + a/x) / 2\n",
    "    return y\n",
    "\n",
    "print(square_root(1))\n",
    "print(square_root(7))"
   ]
  },
  {
   "cell_type": "markdown",
   "metadata": {},
   "source": [
    "A variant of the above, using the `a, b = 1, 2` idiom to initialize two values in parallel. *All* the expressions on the right side are evaluated before *any* variable on the left side is updated."
   ]
  },
  {
   "cell_type": "code",
   "execution_count": 89,
   "metadata": {},
   "outputs": [
    {
     "name": "stdout",
     "output_type": "stream",
     "text": [
      "1.0\n",
      "2.6457513110645907\n"
     ]
    }
   ],
   "source": [
    "def square_root(a):\n",
    "    epsilon = sys.float_info.epsilon\n",
    "    x, y = a / 2, 0\n",
    "    while abs(y - x) > epsilon:\n",
    "        x, y = (x + a/x) / 2, x\n",
    "    return y\n",
    "\n",
    "print(square_root(1))\n",
    "print(square_root(7))"
   ]
  },
  {
   "cell_type": "markdown",
   "metadata": {},
   "source": [
    "### Exercise 7.1  (Optional)\n",
    "To test the square root algorithm you developed in Exercise 2, you could compare it with Python's `math.sqrt` function. Write a function named `test_square_root` that prints a table like this:\n",
    "\n",
    "```python\n",
    "1.0 1.0           1.0           0.0\n",
    "2.0 1.41421356237 1.41421356237 2.22044604925e-16\n",
    "3.0 1.73205080757 1.73205080757 0.0\n",
    "4.0 2.0           2.0           0.0\n",
    "5.0 2.2360679775  2.2360679775  0.0\n",
    "6.0 2.44948974278 2.44948974278 0.0\n",
    "7.0 2.64575131106 2.64575131106 0.0\n",
    "8.0 2.82842712475 2.82842712475 4.4408920985e-16\n",
    "9.0 3.0           3.0           0.0\n",
    "```\n",
    "\n",
    "The first column is a number, `a`; the second column is the square root of a computed with the function from Section 7.5; the third column is the square root computed by `math.sqrt`; the fourth column is the absolute value of the difference between the two estimates."
   ]
  },
  {
   "cell_type": "code",
   "execution_count": 73,
   "metadata": {},
   "outputs": [
    {
     "name": "stdout",
     "output_type": "stream",
     "text": [
      "1 1.0                 1.0                 0.0\n",
      "2 1.414213562373095   1.4142135623730951  2.220446049250313e-16\n",
      "3 1.7320508075688772  1.7320508075688772  0.0\n",
      "4 2.0                 2.0                 0.0\n",
      "5 2.23606797749979    2.23606797749979    0.0\n",
      "6 2.449489742783178   2.449489742783178   0.0\n",
      "7 2.6457513110645907  2.6457513110645907  0.0\n",
      "8 2.82842712474619    2.8284271247461903  4.440892098500626e-16\n"
     ]
    }
   ],
   "source": [
    "def test_square_root():\n",
    "    import math\n",
    "    for a in range(1, 9):\n",
    "        computed = square_root(a)\n",
    "        reference = math.sqrt(a)\n",
    "        print(a, computed, ' ' * (18 - len(str(computed))), reference, ' ' * (18 - len(str(reference))), abs(computed - reference))\n",
    "\n",
    "test_square_root()"
   ]
  },
  {
   "cell_type": "code",
   "execution_count": 74,
   "metadata": {},
   "outputs": [
    {
     "name": "stdout",
     "output_type": "stream",
     "text": [
      "1.0 1.0                1.0                0.0               \n",
      "2.0 1.414213562373095  1.4142135623730951 2.220446049250313e-16\n",
      "3.0 1.7320508075688772 1.7320508075688772 0.0               \n",
      "4.0 2.0                2.0                0.0               \n",
      "5.0 2.23606797749979   2.23606797749979   0.0               \n",
      "6.0 2.449489742783178  2.449489742783178  0.0               \n",
      "7.0 2.6457513110645907 2.6457513110645907 0.0               \n",
      "8.0 2.82842712474619   2.8284271247461903 4.440892098500626e-16\n"
     ]
    }
   ],
   "source": [
    "def test_square_root():\n",
    "    import math\n",
    "    for a in range(1, 9):\n",
    "        computed = square_root(a)\n",
    "        reference = math.sqrt(a)\n",
    "        print(\"{:0.1f} {:<18} {:<18} {:<18}\".format(a, computed, reference, abs(computed - reference)))\n",
    "\n",
    "test_square_root()"
   ]
  }
 ],
 "metadata": {
  "anaconda-cloud": {},
  "kernel_info": {
   "name": "python3"
  },
  "kernelspec": {
   "display_name": "Python 3",
   "language": "python",
   "name": "python3"
  },
  "language_info": {
   "codemirror_mode": {
    "name": "ipython",
    "version": 3
   },
   "file_extension": ".py",
   "mimetype": "text/x-python",
   "name": "python",
   "nbconvert_exporter": "python",
   "pygments_lexer": "ipython3",
   "version": "3.5.2"
  }
 },
 "nbformat": 4,
 "nbformat_minor": 2
}
