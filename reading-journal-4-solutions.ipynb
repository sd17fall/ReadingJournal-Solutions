{
 "cells": [
  {
   "cell_type": "markdown",
   "metadata": {},
   "source": [
    "# Reading Journal 4 Solutions"
   ]
  },
  {
   "cell_type": "markdown",
   "metadata": {},
   "source": [
    "### Exercise 10.3 \n",
    "Write a function called `middle` that takes a list and returns a new list that contains all but the first and last elements. So `middle([1,2,3,4])` should return `[2,3]`."
   ]
  },
  {
   "cell_type": "markdown",
   "metadata": {},
   "source": [
    "The following cell tests verifies that it's a *new* list that's returned, rather than modifying the input list."
   ]
  },
  {
   "cell_type": "code",
   "execution_count": 2,
   "metadata": {},
   "outputs": [
    {
     "name": "stdout",
     "output_type": "stream",
     "text": [
      "List before middle: [2, 4, 6, 8]\n",
      "List after middle: [2, 4, 6, 8]\n",
      "Returned by middle: [4, 6]\n"
     ]
    }
   ],
   "source": [
    "def middle(mylist):\n",
    "    return mylist[1:len(mylist)-1]\n",
    "\n",
    "mylist = [2, 4, 6, 8]\n",
    "print(\"List before middle:\", mylist)\n",
    "newlist = middle(mylist)\n",
    "print(\"List after middle:\", mylist)\n",
    "print(\"Returned by middle:\", newlist)"
   ]
  },
  {
   "cell_type": "markdown",
   "metadata": {},
   "source": [
    "You could also use doctest for this:"
   ]
  },
  {
   "cell_type": "code",
   "execution_count": 4,
   "metadata": {},
   "outputs": [],
   "source": [
    "def middle(mylist):\n",
    "    \"\"\"Return a new list that contains all but the first and last elements.\n",
    "    \n",
    "    Examples:\n",
    "        >>> mylist = [2, 4, 6, 8]\n",
    "        >>> result = middle(mylist)\n",
    "        >>> result\n",
    "        [4, 6]\n",
    "        >>> mylist\n",
    "        [2, 4, 6, 8]\n",
    "        >>> mylist != result\n",
    "        True\n",
    "    \"\"\"\n",
    "    return mylist[1:len(mylist)-1]\n",
    "\n",
    "import doctest\n",
    "doctest.run_docstring_examples(middle, globals())"
   ]
  },
  {
   "cell_type": "markdown",
   "metadata": {},
   "source": [
    "`mylist[1:-1]` is a shortcut for `mylist[1:len(mylist) - 1]`:"
   ]
  },
  {
   "cell_type": "code",
   "execution_count": 6,
   "metadata": {},
   "outputs": [
    {
     "name": "stdout",
     "output_type": "stream",
     "text": [
      "[1, 2, 3, 4, 5, 6]\n",
      "[2, 3, 4, 5]\n"
     ]
    }
   ],
   "source": [
    "def middle(array):\n",
    "    new = array[1:-1]\n",
    "    return new\n",
    "\n",
    "ary = [1,2,3,4,5,6]\n",
    "ary_new = middle(ary)\n",
    "print(ary)\n",
    "print(ary_new)"
   ]
  },
  {
   "cell_type": "markdown",
   "metadata": {},
   "source": [
    "Here's another solution, with a docstring. The author used the name `list_` to avoid shadowing the Python built-in function `list`. (The previous solutions chose other names, that also avoided using `list`."
   ]
  },
  {
   "cell_type": "code",
   "execution_count": 5,
   "metadata": {
    "scrolled": true
   },
   "outputs": [],
   "source": [
    "def middle(list_):\n",
    "    \"\"\"Return a new list with the first and last elements of the original list removed.\"\"\"\n",
    "    return list_[1:len(list_)-1]"
   ]
  },
  {
   "cell_type": "markdown",
   "metadata": {},
   "source": [
    "When a variable holds a value with some connection to the real world, as in the `speed` and `pace` in some of the Reading Journal 1 answers, you can name the variable after the value in the *domain*. With general functions such as `middle` and `list`, where the domain is Python itself (these work on a list of anything, independent of what in the real world the list represents), choosing a variable name is a challenge.\n",
    "\n",
    "In this particular case, `lst` is often used for `list`. This is a *weak* convention – nobody would look askance at any of the solutions above."
   ]
  },
  {
   "cell_type": "markdown",
   "metadata": {},
   "source": [
    "### Exercise 10.4 \n",
    "Write a function called `chop` that takes a list, modifies it by removing the first and last elements, and returns `None`.\n",
    "\n",
    "What is the difference between `middle` and `chop`? Sketch out the program state or take a look at each in Python Tutor and answer the question in the Markdown cell below."
   ]
  },
  {
   "cell_type": "code",
   "execution_count": 7,
   "metadata": {
    "scrolled": true
   },
   "outputs": [
    {
     "name": "stdout",
     "output_type": "stream",
     "text": [
      "List before chop: [2, 4, 6, 8]\n",
      "List after chop: [4, 6]\n",
      "Returned by middle: None\n"
     ]
    }
   ],
   "source": [
    "def chop(lst):\n",
    "    del lst[len(lst)-1]\n",
    "    del lst[0]\n",
    "    return None;\n",
    "\n",
    "mylist = [2, 4, 6, 8];\n",
    "print(\"List before chop:\", mylist)\n",
    "newlist = chop(mylist)\n",
    "print(\"List after chop:\", mylist)\n",
    "print(\"Returned by middle:\", newlist)"
   ]
  },
  {
   "cell_type": "markdown",
   "metadata": {},
   "source": [
    "Using the `lst[-1]` shortcut. Also, a function without a return statement implicitly returns `None`. We'll use that here."
   ]
  },
  {
   "cell_type": "code",
   "execution_count": 11,
   "metadata": {},
   "outputs": [
    {
     "name": "stdout",
     "output_type": "stream",
     "text": [
      "List before chop: [2, 4, 6, 8]\n",
      "List after chop: [4, 6]\n",
      "Returned by chop: None\n"
     ]
    }
   ],
   "source": [
    "def chop(lst):\n",
    "    del lst[-1]\n",
    "    del lst[0]\n",
    "\n",
    "mylist = [2, 4, 6, 8];\n",
    "print(\"List before chop:\", mylist)\n",
    "result = chop(mylist)\n",
    "print(\"List after chop:\", mylist)\n",
    "print(\"Returned by chop:\", result)"
   ]
  },
  {
   "cell_type": "markdown",
   "metadata": {},
   "source": [
    "With doctest:"
   ]
  },
  {
   "cell_type": "code",
   "execution_count": 13,
   "metadata": {},
   "outputs": [],
   "source": [
    "def chop(lst):\n",
    "    \"\"\"Return a new list that contains all but the first and last elements.\n",
    "    \n",
    "    Examples:\n",
    "        >>> mylist = [2, 4, 6, 8]\n",
    "        >>> chop(mylist)\n",
    "        >>> mylist\n",
    "        [4, 6]\n",
    "    \"\"\"\n",
    "    del lst[-1]\n",
    "    del lst[0]\n",
    "\n",
    "import doctest\n",
    "doctest.run_docstring_examples(chop, globals())"
   ]
  },
  {
   "cell_type": "markdown",
   "metadata": {},
   "source": [
    "### Exercise 10.6 \n",
    "Two words are anagrams if you can rearrange the letters from one to spell the other. Write a function called `is_anagram` that takes two strings and returns `True` if they are anagrams.\n",
    "\n",
    "*Hint*: There is a difficult way to do this and an easy(ier) way. The difficult way is to test whether it's possible to rearrange the first word into the second. The easy way is to test whether it's possible to rearrange both words into a third string (which might or might not be a word). Is there a rule for how to arrange letters, that it's easy to arrange any string into?"
   ]
  },
  {
   "cell_type": "code",
   "execution_count": 19,
   "metadata": {},
   "outputs": [
    {
     "name": "stdout",
     "output_type": "stream",
     "text": [
      "True\n",
      "True\n",
      "False\n"
     ]
    }
   ],
   "source": [
    "def is_anagram(word1, word2):\n",
    "    word1_list = list(word1)\n",
    "    word2_list = list(word2)\n",
    "    word1_sorted = sorted(word1_list)\n",
    "    word2_sorted = sorted(word2_list)\n",
    "    if word1_sorted == word2_sorted:\n",
    "        return True\n",
    "    else:\n",
    "        return False\n",
    "\n",
    "print(is_anagram('angel', 'glean'))\n",
    "print(is_anagram('detains', 'instead'))\n",
    "print(is_anagram('bob', 'boo'))"
   ]
  },
  {
   "cell_type": "markdown",
   "metadata": {},
   "source": [
    "`sorted` can take as its argument a string, so we don't actually need to turn the string into a list:"
   ]
  },
  {
   "cell_type": "code",
   "execution_count": 15,
   "metadata": {
    "scrolled": true
   },
   "outputs": [
    {
     "name": "stdout",
     "output_type": "stream",
     "text": [
      "True\n",
      "True\n",
      "False\n"
     ]
    }
   ],
   "source": [
    "def is_anagram(str1, str2):\n",
    "    alpha1 = ''.join(sorted(str1))\n",
    "    alpha2 = ''.join(sorted(str2))\n",
    "    if alpha1 == alpha2:\n",
    "        return True\n",
    "    else:\n",
    "        return False\n",
    "\n",
    "print(is_anagram('angel', 'glean'))\n",
    "print(is_anagram('detains', 'instead'))\n",
    "print(is_anagram('bob', 'boo'))"
   ]
  },
  {
   "cell_type": "markdown",
   "metadata": {},
   "source": [
    "Python does the right thing when comparing lists (of items that can themselves be compared), so we can actually omit the `''.join` that turns the sorted lists back into strings."
   ]
  },
  {
   "cell_type": "code",
   "execution_count": 18,
   "metadata": {
    "scrolled": true
   },
   "outputs": [
    {
     "name": "stdout",
     "output_type": "stream",
     "text": [
      "True\n",
      "True\n",
      "False\n"
     ]
    }
   ],
   "source": [
    "def is_anagram(str1, str2):\n",
    "    alpha1 = sorted(str1)\n",
    "    alpha2 = sorted(str2)\n",
    "    if alpha1 == alpha2:\n",
    "        return True\n",
    "    else:\n",
    "        return False\n",
    "    \n",
    "print(is_anagram('angel', 'glean'))\n",
    "print(is_anagram('detains', 'instead'))\n",
    "print(is_anagram('bob', 'boo'))"
   ]
  },
  {
   "cell_type": "markdown",
   "metadata": {},
   "source": [
    "Apply the `if expr: return True; else: return False` abbreviation:"
   ]
  },
  {
   "cell_type": "code",
   "execution_count": 16,
   "metadata": {
    "scrolled": true
   },
   "outputs": [
    {
     "name": "stdout",
     "output_type": "stream",
     "text": [
      "True\n",
      "True\n",
      "False\n"
     ]
    }
   ],
   "source": [
    "def is_anagram(str1, str2):\n",
    "    alpha1 = sorted(str1)\n",
    "    alpha2 = sorted(str2)\n",
    "    return alpha1 == alpha2\n",
    "    \n",
    "print(is_anagram('angel', 'glean'))\n",
    "print(is_anagram('detains', 'instead'))\n",
    "print(is_anagram('bob', 'boo'))"
   ]
  },
  {
   "cell_type": "markdown",
   "metadata": {},
   "source": [
    "Since `alpha1` and `alpha2` are each only used once, this can be further abbreviated (for better or worse):"
   ]
  },
  {
   "cell_type": "code",
   "execution_count": 17,
   "metadata": {
    "scrolled": true
   },
   "outputs": [
    {
     "name": "stdout",
     "output_type": "stream",
     "text": [
      "True\n",
      "True\n",
      "False\n"
     ]
    }
   ],
   "source": [
    "def is_anagram(str1, str2):\n",
    "    return sorted(str1) == sorted(str2)\n",
    "    \n",
    "print(is_anagram('angel', 'glean'))\n",
    "print(is_anagram('detains', 'instead'))\n",
    "print(is_anagram('bob', 'boo'))"
   ]
  },
  {
   "cell_type": "markdown",
   "metadata": {},
   "source": [
    "The following implementation doesn't use the `sorted` trick that was hinted at, so it's more code than those solutions. However, because of this, it's also a better illustration of how to think about and code general-purpose *algorithms*. The following steps demonstrate some techniques that you'll be able to use when tehre's not a built-in function such as `sorted` to come to the rescue.\n",
    "\n",
    "The initial an implementation that works on some test cases, but not on everything. It tests that each letter in a `str1` is in `str2`, but it doesn't know about multiple letters, as illustrated in `is_anagram('bob', 'boo')`.\n",
    "\n",
    "This implementation also tests whether every letter in `str1` is in `str2`, but not vice versa. I've added a test for this."
   ]
  },
  {
   "cell_type": "code",
   "execution_count": 23,
   "metadata": {},
   "outputs": [
    {
     "name": "stdout",
     "output_type": "stream",
     "text": [
      "True\n",
      "True\n",
      "True\n",
      "True\n"
     ]
    }
   ],
   "source": [
    "def is_anagram(str1, str2):\n",
    "    for c in str1:\n",
    "        if c not in str2:\n",
    "            return False\n",
    "    \n",
    "    return True\n",
    "\n",
    "print(is_anagram('angel', 'glean'))\n",
    "print(is_anagram('detains', 'instead'))\n",
    "print(is_anagram('bob', 'boo'))\n",
    "print(is_anagram('bob', 'book'))"
   ]
  },
  {
   "cell_type": "markdown",
   "metadata": {},
   "source": [
    "One way to fix this would be to use a dictionary (Python `dict`) to count how many letters are in each word. We'll cover dictionaries later.\n",
    "\n",
    "Another is to \"cross off\" (remove) each letter from `str2` as we use it up, and check whether all the letters have been crossed off. I noticed while making this change that it calls for one more test case.\n",
    "\n",
    "Run this in Python Tutor to see how it works."
   ]
  },
  {
   "cell_type": "code",
   "execution_count": 26,
   "metadata": {
    "scrolled": true
   },
   "outputs": [
    {
     "name": "stdout",
     "output_type": "stream",
     "text": [
      "True\n",
      "True\n",
      "False\n",
      "False\n",
      "False\n"
     ]
    }
   ],
   "source": [
    "def is_anagram(str1, str2):\n",
    "    for c in str1:\n",
    "        if c not in str2:\n",
    "            return False\n",
    "        i = str2.index(c)\n",
    "        str2 = str2[:i] + str2[i + 1:]\n",
    "    \n",
    "    return str2 == ''\n",
    "\n",
    "print(is_anagram('angel', 'glean'))\n",
    "print(is_anagram('detains', 'instead'))\n",
    "print(is_anagram('bob', 'boo'))\n",
    "print(is_anagram('bob', 'book'))\n",
    "print(is_anagram('boo', 'book'))"
   ]
  },
  {
   "cell_type": "markdown",
   "metadata": {},
   "source": [
    "`string.find` returns -1 if the string doesn't contain the character, so we don't actually need to test for `not in`. IMO the following is less readable; it is slightly more efficient for long strings because it searches only once per character instead of twice. (The time and space spent making all the shorter strings as it crosses letters off swamps this, though.)\n",
    "\n",
    "`not str2` has the same value of `str2 == ''`, when the value of `str2` is a string."
   ]
  },
  {
   "cell_type": "code",
   "execution_count": 28,
   "metadata": {
    "scrolled": true
   },
   "outputs": [
    {
     "name": "stdout",
     "output_type": "stream",
     "text": [
      "True\n",
      "True\n",
      "False\n",
      "False\n",
      "False\n"
     ]
    }
   ],
   "source": [
    "def is_anagram(str1, str2):\n",
    "    for c in str1:\n",
    "        i = str2.find(c)\n",
    "        if i == -1:\n",
    "            return False\n",
    "        str2 = str2[:i] + str2[i + 1:]\n",
    "    \n",
    "    return not str2\n",
    "\n",
    "print(is_anagram('angel', 'glean'))\n",
    "print(is_anagram('detains', 'instead'))\n",
    "print(is_anagram('bob', 'boo'))\n",
    "print(is_anagram('bob', 'book'))\n",
    "print(is_anagram('boo', 'book'))"
   ]
  },
  {
   "cell_type": "markdown",
   "metadata": {},
   "source": [
    "Or make a list of the letters in `str2`. Then we can use `del` to cross them off, instead of making a new string each time:"
   ]
  },
  {
   "cell_type": "code",
   "execution_count": 32,
   "metadata": {
    "scrolled": true
   },
   "outputs": [
    {
     "name": "stdout",
     "output_type": "stream",
     "text": [
      "True\n",
      "True\n",
      "False\n",
      "False\n",
      "False\n"
     ]
    }
   ],
   "source": [
    "def is_anagram(str1, str2):\n",
    "    remaining = list(str2)\n",
    "    for c in str1:\n",
    "        if c not in remaining:\n",
    "            return False\n",
    "        del remaining[remaining.index(c)]\n",
    "    \n",
    "    return not remaining\n",
    "\n",
    "print(is_anagram('angel', 'glean'))\n",
    "print(is_anagram('detains', 'instead'))\n",
    "print(is_anagram('bob', 'boo'))\n",
    "print(is_anagram('bob', 'book'))\n",
    "print(is_anagram('boo', 'book'))"
   ]
  },
  {
   "cell_type": "markdown",
   "metadata": {},
   "source": [
    "Back to strings: another approach is to use `string.replace` to strike out the visited letter."
   ]
  },
  {
   "cell_type": "code",
   "execution_count": 34,
   "metadata": {
    "scrolled": true
   },
   "outputs": [
    {
     "name": "stdout",
     "output_type": "stream",
     "text": [
      "True\n",
      "True\n",
      "False\n",
      "False\n",
      "False\n"
     ]
    }
   ],
   "source": [
    "def is_anagram(str1, str2):\n",
    "    for c in str1:\n",
    "        if c not in str2:\n",
    "            return False\n",
    "        str2 = str2.replace(c, '', 1)\n",
    "    \n",
    "    return not str2\n",
    "\n",
    "print(is_anagram('angel', 'glean'))\n",
    "print(is_anagram('detains', 'instead'))\n",
    "print(is_anagram('bob', 'boo'))\n",
    "print(is_anagram('bob', 'book'))\n",
    "print(is_anagram('boo', 'book'))"
   ]
  },
  {
   "cell_type": "markdown",
   "metadata": {},
   "source": [
    "### Exercise 10.8  (optional)\n",
    "The (so-called) Birthday Paradox: <br /><br />\n",
    "1\\. Write a function called `has_duplicates` that takes a list and returns `True` if there is any element that appears more than once. It should not modify the original list.\n",
    "\n",
    "2\\. If there are 23 students in your class, what are the chances that two of you have the same birthday? Put your answer in the Markdown cell below. You can estimate this probability by generating random samples of 23 birthdays and checking for matches. Hint: you can generate random birthdays with the randint function from the [random module](https://docs.python.org/2/library/random.html).\n",
    "\n",
    "You can read about this problem at http://en.wikipedia.org/wiki/Birthday_paradox, and you can download Allen's solution from http://greenteapress.com/thinkpython2/code/birthday.py."
   ]
  },
  {
   "cell_type": "markdown",
   "metadata": {},
   "source": [
    "This will be in the next solution set."
   ]
  },
  {
   "cell_type": "markdown",
   "metadata": {},
   "source": [
    "### Challenge: Exercise 10.10 (optional)\n",
    "\n",
    "You should read [Chapter 9.1](http://www.greenteapress.com/thinkpython2/html/thinkpython2010.html) and do Exercise 1 first.\n",
    "\n",
    "To check whether a word is in the word list, you could use the `in` operator, but it would be relatively slow because it searches through the words in order (try it).\n",
    "\n",
    "Because the words are in alphabetical order, we can speed things up with a bisection search (also known as binary search), which is similar to what you do when you look a word up in the dictionary. You start in the middle and check to see whether the word you are looking for comes before the word in the middle of the list. If so, then you search the first half of the list the same way. Otherwise you search the second half.\n",
    "\n",
    "Either way, you cut the remaining search space in half. If the word list has 113,809 words, it will take about 17 steps to find the word or conclude that it’s not there.\n",
    "\n",
    "Write a function called `bisect` that takes a sorted list and a target value and returns the index of the value in the list, if it’s there, or `None` if it’s not.\n",
    "\n",
    "Or you could read the documentation of the `bisect` module and use that!"
   ]
  },
  {
   "cell_type": "markdown",
   "metadata": {},
   "source": [
    "Allen gives one solution [here](http://greenteapress.com/thinkpython2/code/inlist.py). Here's another, adapted from a student solution."
   ]
  },
  {
   "cell_type": "code",
   "execution_count": 40,
   "metadata": {},
   "outputs": [
    {
     "name": "stdout",
     "output_type": "stream",
     "text": [
      "True\n",
      "False\n"
     ]
    }
   ],
   "source": [
    "def bisect(array, target):\n",
    "    if not array:\n",
    "        return False\n",
    "    i = len(array) // 2 # middle of the list\n",
    "    w = array[i]\n",
    "    if w < target:\n",
    "        return bisect(array[i+1:], target)\n",
    "    elif w > target:\n",
    "        return bisect(array[:i], target)\n",
    "    else:\n",
    "        return True\n",
    "\n",
    "print(bisect(sorted(\"here are some words\".split()), \"some\"))\n",
    "print(bisect(sorted(\"here are some words\".split()), \"none\"))"
   ]
  }
 ],
 "metadata": {
  "anaconda-cloud": {},
  "kernelspec": {
   "display_name": "Python 3",
   "language": "python",
   "name": "python3"
  },
  "language_info": {
   "codemirror_mode": {
    "name": "ipython",
    "version": 3
   },
   "file_extension": ".py",
   "mimetype": "text/x-python",
   "name": "python",
   "nbconvert_exporter": "python",
   "pygments_lexer": "ipython3",
   "version": "3.5.2"
  }
 },
 "nbformat": 4,
 "nbformat_minor": 2
}
